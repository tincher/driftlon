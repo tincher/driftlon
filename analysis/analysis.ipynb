{
 "cells": [
  {
   "cell_type": "markdown",
   "metadata": {},
   "source": [
    "# Analysis"
   ]
  },
  {
   "cell_type": "markdown",
   "metadata": {},
   "source": [
    "get the locally saved data"
   ]
  },
  {
   "cell_type": "code",
   "execution_count": 2,
   "metadata": {},
   "outputs": [],
   "source": [
    "import pickle\n",
    "import pandas as pd\n",
    "import os\n",
    "import sys\n",
    "import seaborn as sn\n",
    "import matplotlib.pyplot as plt\n",
    "import yaml\n",
    "\n",
    "sys.path.append('/home/joel/projects/driftlon/analysis')\n",
    "sys.path.append('/home/joel/projects/driftlon')\n",
    "from correlation import *\n",
    "from analysis_utils import *"
   ]
  },
  {
   "cell_type": "code",
   "execution_count": 3,
   "metadata": {},
   "outputs": [],
   "source": [
    "X = pickle.load(open('../X.pkl', 'rb+'))\n",
    "Y = pickle.load(open('../Y.pkl', 'rb+'))"
   ]
  },
  {
   "cell_type": "code",
   "execution_count": 4,
   "metadata": {},
   "outputs": [
    {
     "data": {
      "text/plain": [
       "(87303, 87303)"
      ]
     },
     "execution_count": 4,
     "metadata": {},
     "output_type": "execute_result"
    }
   ],
   "source": [
    "len(X), len(Y)"
   ]
  },
  {
   "cell_type": "markdown",
   "metadata": {},
   "source": [
    "filter for the numeric fields"
   ]
  },
  {
   "cell_type": "code",
   "execution_count": 5,
   "metadata": {},
   "outputs": [],
   "source": [
    "non_numerical_fields_path = './non_numeric_fields.yaml'\n",
    "\n",
    "with open(non_numerical_fields_path, 'r') as file_:\n",
    "    non_numerical_fields = yaml.load(file_.read(),  Loader=yaml.BaseLoader)"
   ]
  },
  {
   "cell_type": "code",
   "execution_count": 6,
   "metadata": {},
   "outputs": [],
   "source": [
    "all_keys = get_all_keys(X)\n",
    "common_keys = [x for x in get_common_keys(X) if x not in non_numerical_fields]\n",
    "data_for_keys = get_data_for_keys(common_keys, X)"
   ]
  },
  {
   "cell_type": "code",
   "execution_count": 7,
   "metadata": {},
   "outputs": [],
   "source": [
    "all_data = pd.DataFrame(data_for_keys).T.set_axis(common_keys, axis=1)\n",
    "quant_indices = [common_keys[x[0]] for x in enumerate(all_data.loc[0,:]) if type(x[1])==int] \n",
    "data = pd.DataFrame(all_data.loc[:,quant_indices])\n",
    "converted_data = data.apply(pd.to_numeric)"
   ]
  },
  {
   "cell_type": "code",
   "execution_count": null,
   "metadata": {},
   "outputs": [],
   "source": [
    "converted_data.describe()"
   ]
  },
  {
   "cell_type": "markdown",
   "metadata": {},
   "source": [
    "### create correlation matrix"
   ]
  },
  {
   "cell_type": "code",
   "execution_count": null,
   "metadata": {},
   "outputs": [],
   "source": [
    "corr_matrix = converted_data.corr()"
   ]
  },
  {
   "cell_type": "code",
   "execution_count": null,
   "metadata": {},
   "outputs": [],
   "source": [
    "plt.figure(figsize=(30,30))\n",
    "sn.heatmap(corr_matrix, annot=True, cmap=\"PiYG\", center=0)\n",
    "plt.savefig('plots/heatmap.png')"
   ]
  },
  {
   "cell_type": "code",
   "execution_count": null,
   "metadata": {},
   "outputs": [],
   "source": [
    "corr_matrix.unstack().dropna().drop_duplicates().sort_values(ascending=False).to_csv('correlations.csv')"
   ]
  },
  {
   "cell_type": "markdown",
   "metadata": {},
   "source": [
    "### create violin-plots for all numeric fields"
   ]
  },
  {
   "cell_type": "code",
   "execution_count": null,
   "metadata": {},
   "outputs": [],
   "source": [
    "N = len(X)\n",
    "\n",
    "for i in range(len(common_keys)):\n",
    "    plt.clf();\n",
    "    column = converted_data.loc[:,common_keys[i]].sample(n=N, ignore_index=True);\n",
    "    plt.violinplot(column);\n",
    "    plt.ylabel(common_keys[i]);\n",
    "    plt.savefig('plots/violin/' + common_keys[i] + '.png');"
   ]
  },
  {
   "cell_type": "markdown",
   "metadata": {},
   "source": [
    "### create scatter matrix"
   ]
  },
  {
   "cell_type": "code",
   "execution_count": null,
   "metadata": {},
   "outputs": [],
   "source": [
    "converted_data_with_target = converted_data.copy(deep=True)\n",
    "converted_data_with_target['target'] = [int(y_ > 0) for y_ in Y]"
   ]
  },
  {
   "cell_type": "code",
   "execution_count": null,
   "metadata": {},
   "outputs": [],
   "source": [
    "# plt.figure(figsize=(30,30))\n",
    "plt.clf();\n",
    "sn.pairplot(converted_data_with_target.sample(n=100, ignore_index=True))\n",
    "plt.savefig('plots/pairplot.png')"
   ]
  },
  {
   "cell_type": "markdown",
   "metadata": {},
   "source": [
    "### PCA"
   ]
  },
  {
   "cell_type": "code",
   "execution_count": 8,
   "metadata": {},
   "outputs": [],
   "source": [
    "from sklearn.decomposition import PCA"
   ]
  },
  {
   "cell_type": "code",
   "execution_count": 11,
   "metadata": {},
   "outputs": [],
   "source": [
    "pca = PCA(n_components=0.99)\n",
    "data_reduced = pca.fit_transform(converted_data)"
   ]
  },
  {
   "cell_type": "markdown",
   "metadata": {},
   "source": [
    "visualize principal components"
   ]
  },
  {
   "cell_type": "code",
   "execution_count": 50,
   "metadata": {},
   "outputs": [
    {
     "data": {
      "image/png": "[encoded data removed]",
      "text/plain": [
       "<Figure size 432x288 with 1 Axes>"
      ]
     },
     "metadata": {
      "needs_background": "light"
     },
     "output_type": "display_data"
    }
   ],
   "source": [
    "sample_size = 1000\n",
    "y = [int(y_ > 0) for y_ in Y]\n",
    "\n",
    "for i in range(int(pca.n_components_)):\n",
    "    plt.clf()\n",
    "#     column = data_reduced[:,i].sample(n=sample_size, ignore_index=True)\n",
    "    data_with_target = list(zip(data_reduced[:,i], y))\n",
    "    choices = random.choices(data_with_target, k=1000)\n",
    "    column, target = list(zip(*choices))\n",
    "    plt.scatter(column, target)\n",
    "    plt.savefig(f'plots/pca/pca_{i}.png')"
   ]
  },
  {
   "cell_type": "code",
   "execution_count": null,
   "metadata": {},
   "outputs": [],
   "source": []
  }
 ],
 "metadata": {
  "kernelspec": {
   "display_name": "Python 3",
   "language": "python",
   "name": "python3"
  },
  "language_info": {
   "codemirror_mode": {
    "name": "ipython",
    "version": 3
   },
   "file_extension": ".py",
   "mimetype": "text/x-python",
   "name": "python",
   "nbconvert_exporter": "python",
   "pygments_lexer": "ipython3",
   "version": "3.8.10"
  }
 },
 "nbformat": 4,
 "nbformat_minor": 4
}
