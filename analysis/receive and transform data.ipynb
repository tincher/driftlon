{
 "cells": [
  {
   "cell_type": "markdown",
   "id": "adult-procurement",
   "metadata": {},
   "source": [
    "# receive and transform data"
   ]
  },
  {
   "cell_type": "markdown",
   "id": "instrumental-regulation",
   "metadata": {},
   "source": [
    "the data should be received, then transformed, (then saved locally)"
   ]
  },
  {
   "cell_type": "code",
   "execution_count": 1,
   "id": "collected-exhibition",
   "metadata": {},
   "outputs": [],
   "source": [
    "import sys\n",
    "import yaml\n",
    "sys.path.append('/home/joel/projects/driftlon/analysis')\n",
    "sys.path.append('/home/joel/projects/driftlon')\n",
    "sys.path.append('/home/joel/projects/driftlon/data_fetcher')\n",
    "from analysis_utils import DataFetcher, transform_data_to_np\n",
    "from get_from_db import DBReader\n",
    "from write_to_db import DBWriter\n",
    "import numpy as np\n",
    "import pandas as pd\n",
    "import tqdm"
   ]
  },
  {
   "cell_type": "markdown",
   "id": "collective-baker",
   "metadata": {},
   "source": [
    "load data"
   ]
  },
  {
   "cell_type": "code",
   "execution_count": 2,
   "id": "advisory-orientation",
   "metadata": {},
   "outputs": [],
   "source": [
    "mongo_config = yaml.safe_load(open('/home/joel/projects/driftlon/config.yml', 'r'))['mongodb']\n",
    "db_reader = DBReader(mongo_config['address'], mongo_config['username'], mongo_config['password'])\n",
    "db_writer = DBWriter(mongo_config['address'], mongo_config['username'], mongo_config['password'])\n",
    "fetcher = DataFetcher(mongo_config['address'], mongo_config['username'], mongo_config['password'])"
   ]
  },
  {
   "cell_type": "code",
   "execution_count": 3,
   "id": "fitted-spokesman",
   "metadata": {},
   "outputs": [],
   "source": [
    "# raw_data, target = fetcher.get_raw_data_batch(10, offset=10000)\n",
    "raw_filtered_data, targets, player_ids = fetcher.get_filtered_data_batch(1000, offset=3000)"
   ]
  },
  {
   "cell_type": "markdown",
   "id": "brown-chassis",
   "metadata": {},
   "source": [
    "### to pandas"
   ]
  },
  {
   "cell_type": "code",
   "execution_count": 4,
   "id": "designed-knight",
   "metadata": {},
   "outputs": [],
   "source": [
    "data, feature_names = list(zip(*map(transform_data_to_np, raw_filtered_data)))"
   ]
  },
  {
   "cell_type": "code",
   "execution_count": 5,
   "id": "entitled-adventure",
   "metadata": {
    "scrolled": true
   },
   "outputs": [],
   "source": [
    "data_pd = pd.DataFrame(raw_filtered_data)\n",
    "data_pd.head();"
   ]
  },
  {
   "cell_type": "markdown",
   "id": "dominant-cleaner",
   "metadata": {},
   "source": [
    "load config files, only meta_fields is used"
   ]
  },
  {
   "cell_type": "code",
   "execution_count": 6,
   "id": "69b8851a",
   "metadata": {},
   "outputs": [],
   "source": [
    "non_numeric_fields_path = './non_numeric_fields.yaml'\n",
    "\n",
    "with open(non_numeric_fields_path, 'r') as file_:\n",
    "    non_numeric_fields = yaml.load(file_.read(),  Loader=yaml.BaseLoader)\n",
    "    "
   ]
  },
  {
   "cell_type": "code",
   "execution_count": 7,
   "id": "aboriginal-lobby",
   "metadata": {},
   "outputs": [],
   "source": [
    "meta_fields_path = './meta_fields.yaml'\n",
    "\n",
    "with open(meta_fields_path, 'r') as file_:\n",
    "    meta_fields = yaml.load(file_.read(),  Loader=yaml.BaseLoader)    "
   ]
  },
  {
   "cell_type": "markdown",
   "id": "saving-patent",
   "metadata": {},
   "source": [
    "drop columns that should not be used"
   ]
  },
  {
   "cell_type": "code",
   "execution_count": 8,
   "id": "relevant-barrel",
   "metadata": {},
   "outputs": [],
   "source": [
    "dropped_pd = data_pd.drop(meta_fields, axis=1)\n",
    "dropped_pd.head();"
   ]
  },
  {
   "cell_type": "markdown",
   "id": "worst-homework",
   "metadata": {},
   "source": [
    "build pipelines for categorical and numeric data\n",
    "\n",
    "then use an imputer to add MISSING values\n",
    "\n",
    "then add the players SHARE on kills/deaths/dmg etc\n",
    "\n",
    "(then add the users dmg/kills/deaths etc PER MIN)"
   ]
  },
  {
   "cell_type": "code",
   "execution_count": 9,
   "id": "spiritual-wilson",
   "metadata": {},
   "outputs": [],
   "source": [
    "from sklearn.compose import ColumnTransformer\n",
    "from sklearn.pipeline import Pipeline\n",
    "from sklearn.impute import SimpleImputer\n",
    "from sklearn.preprocessing import OneHotEncoder\n",
    "\n",
    "from custom_transformer import TeamShareAdder"
   ]
  },
  {
   "cell_type": "code",
   "execution_count": 10,
   "id": "several-journey",
   "metadata": {},
   "outputs": [],
   "source": [
    "numeric_fields = [column_name for column_name in dropped_pd.columns if column_name not in non_numeric_fields]\n",
    "cat_fields = [column_name for column_name in dropped_pd.columns if column_name in non_numeric_fields]"
   ]
  },
  {
   "cell_type": "code",
   "execution_count": 11,
   "id": "continuing-newspaper",
   "metadata": {},
   "outputs": [],
   "source": [
    "def aggregation_config_builder(stats):\n",
    "    return [(f'stats_{stat}', f'team_{stat}') for stat in stats]\n",
    "\n",
    "aggregation_config = aggregation_config_builder(['totalDamageDealtToChampions', 'kills', 'deaths', 'assists', 'totalDamageTaken', 'goldEarned'])"
   ]
  },
  {
   "cell_type": "code",
   "execution_count": 12,
   "id": "handed-vertical",
   "metadata": {},
   "outputs": [],
   "source": [
    "num_pipeline = Pipeline([('imputer', SimpleImputer(strategy='median')), \n",
    "                         ('team_share_adder', TeamShareAdder(numeric_fields, aggregation_config, mongo_config))])\n",
    "# num_pipeline = Pipeline([('imputer', SimpleImputer(strategy='median'))])"
   ]
  },
  {
   "cell_type": "code",
   "execution_count": 13,
   "id": "willing-copyright",
   "metadata": {},
   "outputs": [],
   "source": [
    "cat_pipeline = Pipeline([('one_hot', OneHotEncoder())])"
   ]
  },
  {
   "cell_type": "code",
   "execution_count": 14,
   "id": "isolated-fence",
   "metadata": {},
   "outputs": [],
   "source": [
    "full_pipeline = ColumnTransformer([('num', num_pipeline, numeric_fields), ('cat', cat_pipeline, ['timeline_lane'])])"
   ]
  },
  {
   "cell_type": "code",
   "execution_count": 15,
   "id": "falling-bullet",
   "metadata": {},
   "outputs": [],
   "source": [
    "data_post_pipeline = full_pipeline.fit_transform(dropped_pd);"
   ]
  },
  {
   "cell_type": "code",
   "execution_count": 16,
   "id": "manual-durham",
   "metadata": {
    "scrolled": true
   },
   "outputs": [
    {
     "data": {
      "text/html": [
       "<div>\n",
       "<style scoped>\n",
       "    .dataframe tbody tr th:only-of-type {\n",
       "        vertical-align: middle;\n",
       "    }\n",
       "\n",
       "    .dataframe tbody tr th {\n",
       "        vertical-align: top;\n",
       "    }\n",
       "\n",
       "    .dataframe thead th {\n",
       "        text-align: right;\n",
       "    }\n",
       "</style>\n",
       "<table border=\"1\" class=\"dataframe\">\n",
       "  <thead>\n",
       "    <tr style=\"text-align: right;\">\n",
       "      <th></th>\n",
       "      <th>0</th>\n",
       "      <th>1</th>\n",
       "      <th>2</th>\n",
       "      <th>3</th>\n",
       "      <th>4</th>\n",
       "      <th>5</th>\n",
       "      <th>6</th>\n",
       "      <th>7</th>\n",
       "      <th>8</th>\n",
       "      <th>9</th>\n",
       "      <th>...</th>\n",
       "      <th>85</th>\n",
       "      <th>86</th>\n",
       "      <th>87</th>\n",
       "      <th>88</th>\n",
       "      <th>89</th>\n",
       "      <th>90</th>\n",
       "      <th>91</th>\n",
       "      <th>92</th>\n",
       "      <th>93</th>\n",
       "      <th>94</th>\n",
       "    </tr>\n",
       "  </thead>\n",
       "  <tbody>\n",
       "    <tr>\n",
       "      <th>0</th>\n",
       "      <td>8.0</td>\n",
       "      <td>8.0</td>\n",
       "      <td>23.0</td>\n",
       "      <td>3.0</td>\n",
       "      <td>1.0</td>\n",
       "      <td>3.0</td>\n",
       "      <td>935.0</td>\n",
       "      <td>0.0</td>\n",
       "      <td>0.0</td>\n",
       "      <td>0.0</td>\n",
       "      <td>...</td>\n",
       "      <td>0.181818</td>\n",
       "      <td>0.489362</td>\n",
       "      <td>407.609195</td>\n",
       "      <td>0.340446</td>\n",
       "      <td>0.194152</td>\n",
       "      <td>0.0</td>\n",
       "      <td>0.0</td>\n",
       "      <td>0.0</td>\n",
       "      <td>0.0</td>\n",
       "      <td>1.0</td>\n",
       "    </tr>\n",
       "    <tr>\n",
       "      <th>1</th>\n",
       "      <td>10.0</td>\n",
       "      <td>3.0</td>\n",
       "      <td>3.0</td>\n",
       "      <td>7.0</td>\n",
       "      <td>1.0</td>\n",
       "      <td>2.0</td>\n",
       "      <td>1343.0</td>\n",
       "      <td>0.0</td>\n",
       "      <td>0.0</td>\n",
       "      <td>0.0</td>\n",
       "      <td>...</td>\n",
       "      <td>0.142857</td>\n",
       "      <td>0.103448</td>\n",
       "      <td>1018.296296</td>\n",
       "      <td>0.235488</td>\n",
       "      <td>0.251449</td>\n",
       "      <td>0.0</td>\n",
       "      <td>0.0</td>\n",
       "      <td>0.0</td>\n",
       "      <td>0.0</td>\n",
       "      <td>1.0</td>\n",
       "    </tr>\n",
       "    <tr>\n",
       "      <th>2</th>\n",
       "      <td>2.0</td>\n",
       "      <td>5.0</td>\n",
       "      <td>2.0</td>\n",
       "      <td>0.0</td>\n",
       "      <td>1.0</td>\n",
       "      <td>0.0</td>\n",
       "      <td>470.0</td>\n",
       "      <td>0.0</td>\n",
       "      <td>0.0</td>\n",
       "      <td>0.0</td>\n",
       "      <td>...</td>\n",
       "      <td>0.416667</td>\n",
       "      <td>0.060606</td>\n",
       "      <td>466.125000</td>\n",
       "      <td>0.173754</td>\n",
       "      <td>0.259257</td>\n",
       "      <td>0.0</td>\n",
       "      <td>0.0</td>\n",
       "      <td>0.0</td>\n",
       "      <td>1.0</td>\n",
       "      <td>0.0</td>\n",
       "    </tr>\n",
       "    <tr>\n",
       "      <th>3</th>\n",
       "      <td>9.0</td>\n",
       "      <td>4.0</td>\n",
       "      <td>6.0</td>\n",
       "      <td>5.0</td>\n",
       "      <td>2.0</td>\n",
       "      <td>2.0</td>\n",
       "      <td>653.0</td>\n",
       "      <td>1.0</td>\n",
       "      <td>0.0</td>\n",
       "      <td>0.0</td>\n",
       "      <td>...</td>\n",
       "      <td>0.129032</td>\n",
       "      <td>0.206897</td>\n",
       "      <td>323.300000</td>\n",
       "      <td>0.174682</td>\n",
       "      <td>0.251183</td>\n",
       "      <td>0.0</td>\n",
       "      <td>0.0</td>\n",
       "      <td>0.0</td>\n",
       "      <td>0.0</td>\n",
       "      <td>1.0</td>\n",
       "    </tr>\n",
       "    <tr>\n",
       "      <th>4</th>\n",
       "      <td>4.0</td>\n",
       "      <td>7.0</td>\n",
       "      <td>7.0</td>\n",
       "      <td>0.0</td>\n",
       "      <td>1.0</td>\n",
       "      <td>0.0</td>\n",
       "      <td>343.0</td>\n",
       "      <td>0.0</td>\n",
       "      <td>0.0</td>\n",
       "      <td>0.0</td>\n",
       "      <td>...</td>\n",
       "      <td>0.350000</td>\n",
       "      <td>0.233333</td>\n",
       "      <td>305.571429</td>\n",
       "      <td>0.217337</td>\n",
       "      <td>0.200435</td>\n",
       "      <td>0.0</td>\n",
       "      <td>0.0</td>\n",
       "      <td>0.0</td>\n",
       "      <td>0.0</td>\n",
       "      <td>1.0</td>\n",
       "    </tr>\n",
       "  </tbody>\n",
       "</table>\n",
       "<p>5 rows × 95 columns</p>\n",
       "</div>"
      ],
      "text/plain": [
       "     0    1     2    3    4    5       6    7    8    9   ...        85  \\\n",
       "0   8.0  8.0  23.0  3.0  1.0  3.0   935.0  0.0  0.0  0.0  ...  0.181818   \n",
       "1  10.0  3.0   3.0  7.0  1.0  2.0  1343.0  0.0  0.0  0.0  ...  0.142857   \n",
       "2   2.0  5.0   2.0  0.0  1.0  0.0   470.0  0.0  0.0  0.0  ...  0.416667   \n",
       "3   9.0  4.0   6.0  5.0  2.0  2.0   653.0  1.0  0.0  0.0  ...  0.129032   \n",
       "4   4.0  7.0   7.0  0.0  1.0  0.0   343.0  0.0  0.0  0.0  ...  0.350000   \n",
       "\n",
       "         86           87        88        89   90   91   92   93   94  \n",
       "0  0.489362   407.609195  0.340446  0.194152  0.0  0.0  0.0  0.0  1.0  \n",
       "1  0.103448  1018.296296  0.235488  0.251449  0.0  0.0  0.0  0.0  1.0  \n",
       "2  0.060606   466.125000  0.173754  0.259257  0.0  0.0  0.0  1.0  0.0  \n",
       "3  0.206897   323.300000  0.174682  0.251183  0.0  0.0  0.0  0.0  1.0  \n",
       "4  0.233333   305.571429  0.217337  0.200435  0.0  0.0  0.0  0.0  1.0  \n",
       "\n",
       "[5 rows x 95 columns]"
      ]
     },
     "execution_count": 16,
     "metadata": {},
     "output_type": "execute_result"
    }
   ],
   "source": [
    "post_df = pd.DataFrame(data_post_pipeline)\n",
    "post_df.head()"
   ]
  },
  {
   "cell_type": "markdown",
   "id": "political-visitor",
   "metadata": {},
   "source": [
    "save the result"
   ]
  },
  {
   "cell_type": "code",
   "execution_count": 17,
   "id": "informational-hygiene",
   "metadata": {},
   "outputs": [
    {
     "name": "stderr",
     "output_type": "stream",
     "text": [
      "100%|██████████| 1000/1000 [01:22<00:00, 12.09it/s]\n"
     ]
    }
   ],
   "source": [
    "for i, game in tqdm.tqdm(list(enumerate(post_df.itertuples()))):\n",
    "    db_writer.write_processed_game(game, targets[i], player_ids[i])"
   ]
  },
  {
   "cell_type": "code",
   "execution_count": null,
   "id": "constant-north",
   "metadata": {},
   "outputs": [],
   "source": []
  }
 ],
 "metadata": {
  "kernelspec": {
   "display_name": "Python 3",
   "language": "python",
   "name": "python3"
  },
  "language_info": {
   "codemirror_mode": {
    "name": "ipython",
    "version": 3
   },
   "file_extension": ".py",
   "mimetype": "text/x-python",
   "name": "python",
   "nbconvert_exporter": "python",
   "pygments_lexer": "ipython3",
   "version": "3.8.10"
  }
 },
 "nbformat": 4,
 "nbformat_minor": 5
}
