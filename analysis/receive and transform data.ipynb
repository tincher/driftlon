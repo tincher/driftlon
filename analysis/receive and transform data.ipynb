{
 "cells": [
  {
   "cell_type": "markdown",
   "id": "adult-procurement",
   "metadata": {},
   "source": [
    "# receive and transform data"
   ]
  },
  {
   "cell_type": "markdown",
   "id": "instrumental-regulation",
   "metadata": {},
   "source": [
    "the data should be received, then transformed, (then saved locally)"
   ]
  },
  {
   "cell_type": "code",
   "execution_count": 1,
   "id": "collected-exhibition",
   "metadata": {},
   "outputs": [],
   "source": [
    "import sys\n",
    "import yaml\n",
    "import tqdm\n",
    "import numpy as np\n",
    "import pandas as pd\n",
    "sys.path.append('/home/joel/projects/driftlon/analysis')\n",
    "sys.path.append('/home/joel/projects/driftlon')\n",
    "sys.path.append('/home/joel/projects/driftlon/data_fetcher')\n",
    "from get_from_db import DBReader\n",
    "from write_to_db import DBWriter\n",
    "from my_data_fetcher import MyDataFetcher\n",
    "from analysis_utils import transform_data_to_np"
   ]
  },
  {
   "cell_type": "markdown",
   "id": "collective-baker",
   "metadata": {},
   "source": [
    "load data"
   ]
  },
  {
   "cell_type": "code",
   "execution_count": 2,
   "id": "advisory-orientation",
   "metadata": {},
   "outputs": [],
   "source": [
    "mongo_config = yaml.safe_load(open('/home/joel/projects/driftlon/config.yml', 'r'))['mongodb']\n",
    "db_reader = DBReader(mongo_config['address'], mongo_config['username'], mongo_config['password'])\n",
    "db_writer = DBWriter(mongo_config['address'], mongo_config['username'], mongo_config['password'])\n",
    "fetcher = MyDataFetcher(mongo_config['address'], mongo_config['username'], mongo_config['password'])"
   ]
  },
  {
   "cell_type": "code",
   "execution_count": 3,
   "id": "fitted-spokesman",
   "metadata": {},
   "outputs": [],
   "source": [
    "additional_cumulative_stats = ['totalDamageDealtToChampions', 'kills', 'deaths', 'assists', 'totalDamageTaken', 'goldEarned']\n",
    "raw_filtered_data, targets, player_ids = fetcher.get_filtered_data_batch(10, offset=5000, additional_cumulative_stats=additional_cumulative_stats)"
   ]
  },
  {
   "cell_type": "markdown",
   "id": "brown-chassis",
   "metadata": {},
   "source": [
    "### to pandas"
   ]
  },
  {
   "cell_type": "code",
   "execution_count": 4,
   "id": "designed-knight",
   "metadata": {},
   "outputs": [],
   "source": [
    "data, feature_names = list(zip(*map(transform_data_to_np, raw_filtered_data)))"
   ]
  },
  {
   "cell_type": "code",
   "execution_count": 5,
   "id": "entitled-adventure",
   "metadata": {
    "scrolled": true
   },
   "outputs": [],
   "source": [
    "data_pd = pd.DataFrame(raw_filtered_data)\n",
    "data_pd.head();"
   ]
  },
  {
   "cell_type": "markdown",
   "id": "dominant-cleaner",
   "metadata": {},
   "source": [
    "load config files, only meta_fields is used"
   ]
  },
  {
   "cell_type": "code",
   "execution_count": 6,
   "id": "69b8851a",
   "metadata": {},
   "outputs": [],
   "source": [
    "non_numeric_fields_path = './non_numeric_fields.yaml'\n",
    "\n",
    "with open(non_numeric_fields_path, 'r') as file_:\n",
    "    non_numeric_fields = yaml.load(file_.read(),  Loader=yaml.BaseLoader)\n",
    "    "
   ]
  },
  {
   "cell_type": "code",
   "execution_count": 7,
   "id": "aboriginal-lobby",
   "metadata": {},
   "outputs": [],
   "source": [
    "meta_fields_path = './meta_fields.yaml'\n",
    "\n",
    "with open(meta_fields_path, 'r') as file_:\n",
    "    meta_fields = yaml.load(file_.read(),  Loader=yaml.BaseLoader)    "
   ]
  },
  {
   "cell_type": "markdown",
   "id": "saving-patent",
   "metadata": {},
   "source": [
    "drop columns that should not be used"
   ]
  },
  {
   "cell_type": "code",
   "execution_count": 8,
   "id": "relevant-barrel",
   "metadata": {},
   "outputs": [],
   "source": [
    "dropped_pd = data_pd.drop(meta_fields, axis=1)\n",
    "dropped_pd.head();"
   ]
  },
  {
   "cell_type": "markdown",
   "id": "worst-homework",
   "metadata": {},
   "source": [
    "build pipelines for categorical and numeric data\n",
    "\n",
    "then use an imputer to add MISSING values\n",
    "\n",
    "then add the players SHARE on kills/deaths/dmg etc\n",
    "\n",
    "(then add the users dmg/kills/deaths etc PER MIN)"
   ]
  },
  {
   "cell_type": "code",
   "execution_count": 9,
   "id": "spiritual-wilson",
   "metadata": {},
   "outputs": [],
   "source": [
    "from sklearn.compose import ColumnTransformer\n",
    "from sklearn.pipeline import Pipeline\n",
    "from sklearn.impute import SimpleImputer\n",
    "from sklearn.preprocessing import OneHotEncoder\n",
    "\n",
    "from custom_transformer import TeamShareAdder, StatPerTimeAdder"
   ]
  },
  {
   "cell_type": "code",
   "execution_count": 10,
   "id": "several-journey",
   "metadata": {},
   "outputs": [],
   "source": [
    "numeric_fields = [column_name for column_name in dropped_pd.columns if column_name not in non_numeric_fields]\n",
    "cat_fields = [column_name for column_name in dropped_pd.columns if column_name in non_numeric_fields]"
   ]
  },
  {
   "cell_type": "code",
   "execution_count": 11,
   "id": "continuing-newspaper",
   "metadata": {},
   "outputs": [],
   "source": [
    "def aggregation_config_builder(stats):\n",
    "    return [(f'stats_{stat}', f'team_{stat}') for stat in stats]\n",
    "\n",
    "def feature_time_config_builder(stats):\n",
    "    return [f'stats_{stat}' for stat in stats]\n",
    "\n",
    "aggregation_config = aggregation_config_builder(['totalDamageDealtToChampions', 'kills', 'deaths', 'assists', 'totalDamageTaken', 'goldEarned'])\n",
    "features_per_time = feature_time_config_builder(['totalDamageDealtToChampions', 'kills', 'deaths', 'assists', 'totalDamageTaken', 'goldEarned'])"
   ]
  },
  {
   "cell_type": "code",
   "execution_count": 12,
   "id": "handed-vertical",
   "metadata": {},
   "outputs": [],
   "source": [
    "num_pipeline = Pipeline([('imputer', SimpleImputer(strategy='median')), \n",
    "                         ('team_share_adder', TeamShareAdder(numeric_fields, aggregation_config)),\n",
    "                         ('stat_per_time_adder', StatPerTimeAdder(numeric_fields, features_per_time))])\n",
    "# num_pipeline = Pipeline([('imputer', SimpleImputer(strategy='median')), \n",
    "#                          ('team_share_adder', TeamShareAdder(numeric_fields, aggregation_config))])"
   ]
  },
  {
   "cell_type": "code",
   "execution_count": 13,
   "id": "willing-copyright",
   "metadata": {},
   "outputs": [],
   "source": [
    "cat_pipeline = Pipeline([('one_hot', OneHotEncoder())])"
   ]
  },
  {
   "cell_type": "code",
   "execution_count": 14,
   "id": "isolated-fence",
   "metadata": {},
   "outputs": [],
   "source": [
    "full_pipeline = ColumnTransformer([('num', num_pipeline, numeric_fields), ('cat', cat_pipeline, ['timeline_lane'])])"
   ]
  },
  {
   "cell_type": "code",
   "execution_count": 15,
   "id": "falling-bullet",
   "metadata": {},
   "outputs": [
    {
     "name": "stdout",
     "output_type": "stream",
     "text": [
      "[0, 1, 2, 15, 26, 30] ['stats_totalDamageDealtToChampions', 'stats_kills', 'stats_deaths', 'stats_assists', 'stats_totalDamageTaken', 'stats_goldEarned']\n"
     ]
    }
   ],
   "source": [
    "data_post_pipeline = full_pipeline.fit_transform(dropped_pd);"
   ]
  },
  {
   "cell_type": "code",
   "execution_count": 16,
   "id": "manual-durham",
   "metadata": {
    "scrolled": true
   },
   "outputs": [
    {
     "data": {
      "text/html": [
       "<div>\n",
       "<style scoped>\n",
       "    .dataframe tbody tr th:only-of-type {\n",
       "        vertical-align: middle;\n",
       "    }\n",
       "\n",
       "    .dataframe tbody tr th {\n",
       "        vertical-align: top;\n",
       "    }\n",
       "\n",
       "    .dataframe thead th {\n",
       "        text-align: right;\n",
       "    }\n",
       "</style>\n",
       "<table border=\"1\" class=\"dataframe\">\n",
       "  <thead>\n",
       "    <tr style=\"text-align: right;\">\n",
       "      <th></th>\n",
       "      <th>0</th>\n",
       "      <th>1</th>\n",
       "      <th>2</th>\n",
       "      <th>3</th>\n",
       "      <th>4</th>\n",
       "      <th>5</th>\n",
       "      <th>6</th>\n",
       "      <th>7</th>\n",
       "      <th>8</th>\n",
       "      <th>9</th>\n",
       "      <th>...</th>\n",
       "      <th>83</th>\n",
       "      <th>84</th>\n",
       "      <th>85</th>\n",
       "      <th>86</th>\n",
       "      <th>87</th>\n",
       "      <th>88</th>\n",
       "      <th>89</th>\n",
       "      <th>90</th>\n",
       "      <th>91</th>\n",
       "      <th>92</th>\n",
       "    </tr>\n",
       "  </thead>\n",
       "  <tbody>\n",
       "    <tr>\n",
       "      <th>0</th>\n",
       "      <td>3.0</td>\n",
       "      <td>2.0</td>\n",
       "      <td>8.0</td>\n",
       "      <td>2.0</td>\n",
       "      <td>1.0</td>\n",
       "      <td>1.0</td>\n",
       "      <td>492.0</td>\n",
       "      <td>0.0</td>\n",
       "      <td>0.0</td>\n",
       "      <td>0.0</td>\n",
       "      <td>...</td>\n",
       "      <td>0.171551</td>\n",
       "      <td>0.003212</td>\n",
       "      <td>0.002141</td>\n",
       "      <td>0.008565</td>\n",
       "      <td>4.369379</td>\n",
       "      <td>13.377944</td>\n",
       "      <td>6.887580</td>\n",
       "      <td>0.0</td>\n",
       "      <td>0.0</td>\n",
       "      <td>1.0</td>\n",
       "    </tr>\n",
       "    <tr>\n",
       "      <th>1</th>\n",
       "      <td>6.0</td>\n",
       "      <td>5.0</td>\n",
       "      <td>6.0</td>\n",
       "      <td>3.0</td>\n",
       "      <td>2.0</td>\n",
       "      <td>2.0</td>\n",
       "      <td>348.0</td>\n",
       "      <td>1.0</td>\n",
       "      <td>0.0</td>\n",
       "      <td>0.0</td>\n",
       "      <td>...</td>\n",
       "      <td>0.212545</td>\n",
       "      <td>0.003750</td>\n",
       "      <td>0.003125</td>\n",
       "      <td>0.003750</td>\n",
       "      <td>9.417500</td>\n",
       "      <td>7.874375</td>\n",
       "      <td>7.458750</td>\n",
       "      <td>1.0</td>\n",
       "      <td>0.0</td>\n",
       "      <td>0.0</td>\n",
       "    </tr>\n",
       "    <tr>\n",
       "      <th>2</th>\n",
       "      <td>6.0</td>\n",
       "      <td>7.0</td>\n",
       "      <td>8.0</td>\n",
       "      <td>3.0</td>\n",
       "      <td>1.0</td>\n",
       "      <td>1.0</td>\n",
       "      <td>445.0</td>\n",
       "      <td>0.0</td>\n",
       "      <td>0.0</td>\n",
       "      <td>0.0</td>\n",
       "      <td>...</td>\n",
       "      <td>0.218735</td>\n",
       "      <td>0.004202</td>\n",
       "      <td>0.004902</td>\n",
       "      <td>0.005602</td>\n",
       "      <td>8.060924</td>\n",
       "      <td>20.623950</td>\n",
       "      <td>6.764706</td>\n",
       "      <td>0.0</td>\n",
       "      <td>1.0</td>\n",
       "      <td>0.0</td>\n",
       "    </tr>\n",
       "    <tr>\n",
       "      <th>3</th>\n",
       "      <td>7.0</td>\n",
       "      <td>2.0</td>\n",
       "      <td>14.0</td>\n",
       "      <td>4.0</td>\n",
       "      <td>1.0</td>\n",
       "      <td>2.0</td>\n",
       "      <td>875.0</td>\n",
       "      <td>0.0</td>\n",
       "      <td>0.0</td>\n",
       "      <td>0.0</td>\n",
       "      <td>...</td>\n",
       "      <td>0.223226</td>\n",
       "      <td>0.003964</td>\n",
       "      <td>0.001133</td>\n",
       "      <td>0.007928</td>\n",
       "      <td>12.665912</td>\n",
       "      <td>17.635334</td>\n",
       "      <td>8.254813</td>\n",
       "      <td>0.0</td>\n",
       "      <td>1.0</td>\n",
       "      <td>0.0</td>\n",
       "    </tr>\n",
       "    <tr>\n",
       "      <th>4</th>\n",
       "      <td>6.0</td>\n",
       "      <td>5.0</td>\n",
       "      <td>8.0</td>\n",
       "      <td>2.0</td>\n",
       "      <td>2.0</td>\n",
       "      <td>2.0</td>\n",
       "      <td>629.0</td>\n",
       "      <td>1.0</td>\n",
       "      <td>0.0</td>\n",
       "      <td>0.0</td>\n",
       "      <td>...</td>\n",
       "      <td>0.205328</td>\n",
       "      <td>0.004024</td>\n",
       "      <td>0.003353</td>\n",
       "      <td>0.005366</td>\n",
       "      <td>10.553991</td>\n",
       "      <td>17.165661</td>\n",
       "      <td>6.580818</td>\n",
       "      <td>0.0</td>\n",
       "      <td>1.0</td>\n",
       "      <td>0.0</td>\n",
       "    </tr>\n",
       "  </tbody>\n",
       "</table>\n",
       "<p>5 rows × 93 columns</p>\n",
       "</div>"
      ],
      "text/plain": [
       "    0    1     2    3    4    5      6    7    8    9   ...        83  \\\n",
       "0  3.0  2.0   8.0  2.0  1.0  1.0  492.0  0.0  0.0  0.0  ...  0.171551   \n",
       "1  6.0  5.0   6.0  3.0  2.0  2.0  348.0  1.0  0.0  0.0  ...  0.212545   \n",
       "2  6.0  7.0   8.0  3.0  1.0  1.0  445.0  0.0  0.0  0.0  ...  0.218735   \n",
       "3  7.0  2.0  14.0  4.0  1.0  2.0  875.0  0.0  0.0  0.0  ...  0.223226   \n",
       "4  6.0  5.0   8.0  2.0  2.0  2.0  629.0  1.0  0.0  0.0  ...  0.205328   \n",
       "\n",
       "         84        85        86         87         88        89   90   91   92  \n",
       "0  0.003212  0.002141  0.008565   4.369379  13.377944  6.887580  0.0  0.0  1.0  \n",
       "1  0.003750  0.003125  0.003750   9.417500   7.874375  7.458750  1.0  0.0  0.0  \n",
       "2  0.004202  0.004902  0.005602   8.060924  20.623950  6.764706  0.0  1.0  0.0  \n",
       "3  0.003964  0.001133  0.007928  12.665912  17.635334  8.254813  0.0  1.0  0.0  \n",
       "4  0.004024  0.003353  0.005366  10.553991  17.165661  6.580818  0.0  1.0  0.0  \n",
       "\n",
       "[5 rows x 93 columns]"
      ]
     },
     "execution_count": 16,
     "metadata": {},
     "output_type": "execute_result"
    }
   ],
   "source": [
    "post_df = pd.DataFrame(data_post_pipeline)\n",
    "post_df.head()"
   ]
  },
  {
   "cell_type": "markdown",
   "id": "political-visitor",
   "metadata": {},
   "source": [
    "save the result"
   ]
  },
  {
   "cell_type": "code",
   "execution_count": 18,
   "id": "informational-hygiene",
   "metadata": {},
   "outputs": [
    {
     "name": "stderr",
     "output_type": "stream",
     "text": [
      "100%|██████████| 10/10 [00:01<00:00,  8.71it/s]\n"
     ]
    }
   ],
   "source": [
    "for i, game in tqdm.tqdm(list(enumerate(post_df.itertuples()))):\n",
    "    db_writer.write_processed_game(game, targets[i], player_ids[i])"
   ]
  },
  {
   "cell_type": "code",
   "execution_count": null,
   "id": "structured-change",
   "metadata": {},
   "outputs": [],
   "source": []
  }
 ],
 "metadata": {
  "kernelspec": {
   "display_name": "Python 3",
   "language": "python",
   "name": "python3"
  },
  "language_info": {
   "codemirror_mode": {
    "name": "ipython",
    "version": 3
   },
   "file_extension": ".py",
   "mimetype": "text/x-python",
   "name": "python",
   "nbconvert_exporter": "python",
   "pygments_lexer": "ipython3",
   "version": "3.8.10"
  }
 },
 "nbformat": 4,
 "nbformat_minor": 5
}
