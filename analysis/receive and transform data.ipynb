{
 "cells": [
  {
   "cell_type": "markdown",
   "id": "adult-procurement",
   "metadata": {},
   "source": [
    "# receive and transform data"
   ]
  },
  {
   "cell_type": "markdown",
   "id": "instrumental-regulation",
   "metadata": {},
   "source": [
    "the data should be received, then transformed, then saved"
   ]
  },
  {
   "cell_type": "code",
   "execution_count": 1,
   "id": "collected-exhibition",
   "metadata": {},
   "outputs": [],
   "source": [
    "import sys\n",
    "import yaml\n",
    "import os\n",
    "my_pwd = '/Users/joelewig'\n",
    "sys.path.append(os.path.join(my_pwd, 'projects/driftlon/analysis'))\n",
    "sys.path.append(os.path.join(my_pwd, 'projects/driftlon'))\n",
    "sys.path.append(os.path.join(my_pwd, 'projects/driftlon/data_fetcher'))\n",
    "from analysis_utils import DataFetcher, transform_data_to_np\n",
    "from get_from_db import DBReader\n",
    "from write_to_db import DBWriter\n",
    "import numpy as np\n",
    "import pandas as pd\n",
    "import tqdm"
   ]
  },
  {
   "cell_type": "markdown",
   "id": "collective-baker",
   "metadata": {},
   "source": [
    "load data"
   ]
  },
  {
   "cell_type": "code",
   "execution_count": 2,
   "id": "advisory-orientation",
   "metadata": {},
   "outputs": [],
   "source": [
    "mongo_config = yaml.safe_load(open(os.path.join(my_pwd, 'projects/driftlon/config.yml'), 'r'))['mongodb']\n",
    "db_reader = DBReader(mongo_config['address'], mongo_config['username'], mongo_config['password'])\n",
    "db_writer = DBWriter(mongo_config['address'], mongo_config['username'], mongo_config['password'])\n",
    "fetcher = DataFetcher(mongo_config['address'], mongo_config['username'], mongo_config['password'])"
   ]
  },
  {
   "cell_type": "code",
   "execution_count": 67,
   "id": "fitted-spokesman",
   "metadata": {},
   "outputs": [],
   "source": [
    "# raw_data, target = fetcher.get_raw_data_batch(10, offset=10000)\n",
    "raw_filtered_data, targets, player_ids = fetcher.get_filtered_data_batch(1000, offset=4000)"
   ]
  },
  {
   "cell_type": "markdown",
   "id": "brown-chassis",
   "metadata": {},
   "source": [
    "### to pandas"
   ]
  },
  {
   "cell_type": "code",
   "execution_count": 68,
   "id": "designed-knight",
   "metadata": {},
   "outputs": [],
   "source": [
    "data, feature_names = list(zip(*map(transform_data_to_np, raw_filtered_data)))"
   ]
  },
  {
   "cell_type": "code",
   "execution_count": 69,
   "id": "entitled-adventure",
   "metadata": {
    "scrolled": true
   },
   "outputs": [],
   "source": [
    "data_pd = pd.DataFrame(raw_filtered_data)\n",
    "data_pd.head();"
   ]
  },
  {
   "cell_type": "markdown",
   "id": "dominant-cleaner",
   "metadata": {},
   "source": [
    "load config files, only meta_fields is used"
   ]
  },
  {
   "cell_type": "code",
   "execution_count": 70,
   "id": "69b8851a",
   "metadata": {},
   "outputs": [],
   "source": [
    "non_numeric_fields_path = './non_numeric_fields.yaml'\n",
    "\n",
    "with open(non_numeric_fields_path, 'r') as file_:\n",
    "    non_numeric_fields = yaml.load(file_.read(),  Loader=yaml.BaseLoader)\n",
    "    "
   ]
  },
  {
   "cell_type": "code",
   "execution_count": 71,
   "id": "aboriginal-lobby",
   "metadata": {},
   "outputs": [],
   "source": [
    "meta_fields_path = './meta_fields.yaml'\n",
    "\n",
    "with open(meta_fields_path, 'r') as file_:\n",
    "    meta_fields = yaml.load(file_.read(),  Loader=yaml.BaseLoader)    "
   ]
  },
  {
   "cell_type": "markdown",
   "id": "saving-patent",
   "metadata": {},
   "source": [
    "drop columns that should not be used"
   ]
  },
  {
   "cell_type": "code",
   "execution_count": 72,
   "id": "relevant-barrel",
   "metadata": {},
   "outputs": [
    {
     "data": {
      "text/html": [
       "<div>\n",
       "<style scoped>\n",
       "    .dataframe tbody tr th:only-of-type {\n",
       "        vertical-align: middle;\n",
       "    }\n",
       "\n",
       "    .dataframe tbody tr th {\n",
       "        vertical-align: top;\n",
       "    }\n",
       "\n",
       "    .dataframe thead th {\n",
       "        text-align: right;\n",
       "    }\n",
       "</style>\n",
       "<table border=\"1\" class=\"dataframe\">\n",
       "  <thead>\n",
       "    <tr style=\"text-align: right;\">\n",
       "      <th></th>\n",
       "      <th>championId</th>\n",
       "      <th>stats_kills</th>\n",
       "      <th>stats_deaths</th>\n",
       "      <th>stats_assists</th>\n",
       "      <th>stats_largestKillingSpree</th>\n",
       "      <th>stats_largestMultiKill</th>\n",
       "      <th>stats_killingSprees</th>\n",
       "      <th>stats_longestTimeSpentLiving</th>\n",
       "      <th>stats_doubleKills</th>\n",
       "      <th>stats_tripleKills</th>\n",
       "      <th>...</th>\n",
       "      <th>timeline_damageTakenDiffPerMinDeltas_10-20</th>\n",
       "      <th>timeline_damageTakenDiffPerMinDeltas_0-10</th>\n",
       "      <th>timeline_damageTakenDiffPerMinDeltas_20-30</th>\n",
       "      <th>timeline_creepsPerMinDeltas_30-end</th>\n",
       "      <th>timeline_xpPerMinDeltas_30-end</th>\n",
       "      <th>timeline_goldPerMinDeltas_30-end</th>\n",
       "      <th>timeline_csDiffPerMinDeltas_30-end</th>\n",
       "      <th>timeline_xpDiffPerMinDeltas_30-end</th>\n",
       "      <th>timeline_damageTakenPerMinDeltas_30-end</th>\n",
       "      <th>timeline_damageTakenDiffPerMinDeltas_30-end</th>\n",
       "    </tr>\n",
       "  </thead>\n",
       "  <tbody>\n",
       "    <tr>\n",
       "      <th>0</th>\n",
       "      <td>154</td>\n",
       "      <td>4</td>\n",
       "      <td>3</td>\n",
       "      <td>20</td>\n",
       "      <td>2</td>\n",
       "      <td>1</td>\n",
       "      <td>1</td>\n",
       "      <td>357</td>\n",
       "      <td>0</td>\n",
       "      <td>0</td>\n",
       "      <td>...</td>\n",
       "      <td>NaN</td>\n",
       "      <td>NaN</td>\n",
       "      <td>NaN</td>\n",
       "      <td>NaN</td>\n",
       "      <td>NaN</td>\n",
       "      <td>NaN</td>\n",
       "      <td>NaN</td>\n",
       "      <td>NaN</td>\n",
       "      <td>NaN</td>\n",
       "      <td>NaN</td>\n",
       "    </tr>\n",
       "    <tr>\n",
       "      <th>1</th>\n",
       "      <td>68</td>\n",
       "      <td>11</td>\n",
       "      <td>1</td>\n",
       "      <td>10</td>\n",
       "      <td>9</td>\n",
       "      <td>2</td>\n",
       "      <td>2</td>\n",
       "      <td>1224</td>\n",
       "      <td>2</td>\n",
       "      <td>0</td>\n",
       "      <td>...</td>\n",
       "      <td>-61.5</td>\n",
       "      <td>-70.50</td>\n",
       "      <td>-93.5</td>\n",
       "      <td>NaN</td>\n",
       "      <td>NaN</td>\n",
       "      <td>NaN</td>\n",
       "      <td>NaN</td>\n",
       "      <td>NaN</td>\n",
       "      <td>NaN</td>\n",
       "      <td>NaN</td>\n",
       "    </tr>\n",
       "    <tr>\n",
       "      <th>2</th>\n",
       "      <td>68</td>\n",
       "      <td>13</td>\n",
       "      <td>4</td>\n",
       "      <td>7</td>\n",
       "      <td>7</td>\n",
       "      <td>2</td>\n",
       "      <td>4</td>\n",
       "      <td>282</td>\n",
       "      <td>1</td>\n",
       "      <td>0</td>\n",
       "      <td>...</td>\n",
       "      <td>NaN</td>\n",
       "      <td>NaN</td>\n",
       "      <td>NaN</td>\n",
       "      <td>NaN</td>\n",
       "      <td>NaN</td>\n",
       "      <td>NaN</td>\n",
       "      <td>NaN</td>\n",
       "      <td>NaN</td>\n",
       "      <td>NaN</td>\n",
       "      <td>NaN</td>\n",
       "    </tr>\n",
       "    <tr>\n",
       "      <th>3</th>\n",
       "      <td>64</td>\n",
       "      <td>8</td>\n",
       "      <td>1</td>\n",
       "      <td>7</td>\n",
       "      <td>4</td>\n",
       "      <td>2</td>\n",
       "      <td>2</td>\n",
       "      <td>348</td>\n",
       "      <td>1</td>\n",
       "      <td>0</td>\n",
       "      <td>...</td>\n",
       "      <td>NaN</td>\n",
       "      <td>-128.12</td>\n",
       "      <td>NaN</td>\n",
       "      <td>NaN</td>\n",
       "      <td>NaN</td>\n",
       "      <td>NaN</td>\n",
       "      <td>NaN</td>\n",
       "      <td>NaN</td>\n",
       "      <td>NaN</td>\n",
       "      <td>NaN</td>\n",
       "    </tr>\n",
       "    <tr>\n",
       "      <th>4</th>\n",
       "      <td>131</td>\n",
       "      <td>4</td>\n",
       "      <td>3</td>\n",
       "      <td>19</td>\n",
       "      <td>2</td>\n",
       "      <td>1</td>\n",
       "      <td>1</td>\n",
       "      <td>519</td>\n",
       "      <td>0</td>\n",
       "      <td>0</td>\n",
       "      <td>...</td>\n",
       "      <td>-122.8</td>\n",
       "      <td>-323.00</td>\n",
       "      <td>NaN</td>\n",
       "      <td>NaN</td>\n",
       "      <td>NaN</td>\n",
       "      <td>NaN</td>\n",
       "      <td>NaN</td>\n",
       "      <td>NaN</td>\n",
       "      <td>NaN</td>\n",
       "      <td>NaN</td>\n",
       "    </tr>\n",
       "  </tbody>\n",
       "</table>\n",
       "<p>5 rows × 87 columns</p>\n",
       "</div>"
      ],
      "text/plain": [
       "   championId  stats_kills  stats_deaths  stats_assists  \\\n",
       "0         154            4             3             20   \n",
       "1          68           11             1             10   \n",
       "2          68           13             4              7   \n",
       "3          64            8             1              7   \n",
       "4         131            4             3             19   \n",
       "\n",
       "   stats_largestKillingSpree  stats_largestMultiKill  stats_killingSprees  \\\n",
       "0                          2                       1                    1   \n",
       "1                          9                       2                    2   \n",
       "2                          7                       2                    4   \n",
       "3                          4                       2                    2   \n",
       "4                          2                       1                    1   \n",
       "\n",
       "   stats_longestTimeSpentLiving  stats_doubleKills  stats_tripleKills  ...  \\\n",
       "0                           357                  0                  0  ...   \n",
       "1                          1224                  2                  0  ...   \n",
       "2                           282                  1                  0  ...   \n",
       "3                           348                  1                  0  ...   \n",
       "4                           519                  0                  0  ...   \n",
       "\n",
       "   timeline_damageTakenDiffPerMinDeltas_10-20  \\\n",
       "0                                         NaN   \n",
       "1                                       -61.5   \n",
       "2                                         NaN   \n",
       "3                                         NaN   \n",
       "4                                      -122.8   \n",
       "\n",
       "   timeline_damageTakenDiffPerMinDeltas_0-10  \\\n",
       "0                                        NaN   \n",
       "1                                     -70.50   \n",
       "2                                        NaN   \n",
       "3                                    -128.12   \n",
       "4                                    -323.00   \n",
       "\n",
       "   timeline_damageTakenDiffPerMinDeltas_20-30  \\\n",
       "0                                         NaN   \n",
       "1                                       -93.5   \n",
       "2                                         NaN   \n",
       "3                                         NaN   \n",
       "4                                         NaN   \n",
       "\n",
       "   timeline_creepsPerMinDeltas_30-end  timeline_xpPerMinDeltas_30-end  \\\n",
       "0                                 NaN                             NaN   \n",
       "1                                 NaN                             NaN   \n",
       "2                                 NaN                             NaN   \n",
       "3                                 NaN                             NaN   \n",
       "4                                 NaN                             NaN   \n",
       "\n",
       "   timeline_goldPerMinDeltas_30-end  timeline_csDiffPerMinDeltas_30-end  \\\n",
       "0                               NaN                                 NaN   \n",
       "1                               NaN                                 NaN   \n",
       "2                               NaN                                 NaN   \n",
       "3                               NaN                                 NaN   \n",
       "4                               NaN                                 NaN   \n",
       "\n",
       "   timeline_xpDiffPerMinDeltas_30-end  \\\n",
       "0                                 NaN   \n",
       "1                                 NaN   \n",
       "2                                 NaN   \n",
       "3                                 NaN   \n",
       "4                                 NaN   \n",
       "\n",
       "   timeline_damageTakenPerMinDeltas_30-end  \\\n",
       "0                                      NaN   \n",
       "1                                      NaN   \n",
       "2                                      NaN   \n",
       "3                                      NaN   \n",
       "4                                      NaN   \n",
       "\n",
       "   timeline_damageTakenDiffPerMinDeltas_30-end  \n",
       "0                                          NaN  \n",
       "1                                          NaN  \n",
       "2                                          NaN  \n",
       "3                                          NaN  \n",
       "4                                          NaN  \n",
       "\n",
       "[5 rows x 87 columns]"
      ]
     },
     "execution_count": 72,
     "metadata": {},
     "output_type": "execute_result"
    }
   ],
   "source": [
    "dropped_pd = data_pd.drop(meta_fields, axis=1)\n",
    "dropped_pd.head()"
   ]
  },
  {
   "cell_type": "markdown",
   "id": "worst-homework",
   "metadata": {},
   "source": [
    "build pipelines for categorical and numeric data\n",
    "\n",
    "then use an imputer to add MISSING values\n",
    "\n",
    "then add the players SHARE on kills/deaths/dmg etc\n",
    "\n",
    "(then add the users dmg/kills/deaths etc PER MIN)"
   ]
  },
  {
   "cell_type": "code",
   "execution_count": 73,
   "id": "spiritual-wilson",
   "metadata": {},
   "outputs": [],
   "source": [
    "from sklearn.compose import ColumnTransformer\n",
    "from sklearn.pipeline import Pipeline\n",
    "from sklearn.impute import SimpleImputer\n",
    "from sklearn.preprocessing import OneHotEncoder\n",
    "\n",
    "from custom_transformer import TeamShareAdder"
   ]
  },
  {
   "cell_type": "code",
   "execution_count": 74,
   "id": "several-journey",
   "metadata": {},
   "outputs": [],
   "source": [
    "numeric_fields = [column_name for column_name in dropped_pd.columns if column_name not in non_numeric_fields]\n",
    "cat_fields = [column_name for column_name in dropped_pd.columns if column_name in non_numeric_fields]"
   ]
  },
  {
   "cell_type": "code",
   "execution_count": 75,
   "id": "continuing-newspaper",
   "metadata": {},
   "outputs": [],
   "source": [
    "def aggregation_config_builder(stats):\n",
    "    return [(f'stats_{stat}', f'team_{stat}') for stat in stats]\n",
    "\n",
    "aggregation_config = aggregation_config_builder(['totalDamageDealtToChampions', 'kills', 'deaths', 'assists', 'totalDamageTaken', 'goldEarned'])"
   ]
  },
  {
   "cell_type": "code",
   "execution_count": 76,
   "id": "handed-vertical",
   "metadata": {},
   "outputs": [],
   "source": [
    "num_pipeline = Pipeline([('imputer', SimpleImputer(strategy='median')), \n",
    "                         ('team_share_adder', TeamShareAdder(numeric_fields, aggregation_config, mongo_config))])\n",
    "# num_pipeline = Pipeline([('imputer', SimpleImputer(strategy='median'))])"
   ]
  },
  {
   "cell_type": "code",
   "execution_count": 77,
   "id": "willing-copyright",
   "metadata": {},
   "outputs": [],
   "source": [
    "cat_pipeline = Pipeline([('one_hot', OneHotEncoder())])"
   ]
  },
  {
   "cell_type": "code",
   "execution_count": 78,
   "id": "isolated-fence",
   "metadata": {},
   "outputs": [],
   "source": [
    "full_pipeline = ColumnTransformer([('num', num_pipeline, numeric_fields), ('cat', cat_pipeline, ['timeline_lane'])])"
   ]
  },
  {
   "cell_type": "code",
   "execution_count": 79,
   "id": "falling-bullet",
   "metadata": {},
   "outputs": [],
   "source": [
    "data_post_pipeline = full_pipeline.fit_transform(dropped_pd);"
   ]
  },
  {
   "cell_type": "code",
   "execution_count": 80,
   "id": "manual-durham",
   "metadata": {
    "scrolled": true
   },
   "outputs": [
    {
     "data": {
      "text/html": [
       "<div>\n",
       "<style scoped>\n",
       "    .dataframe tbody tr th:only-of-type {\n",
       "        vertical-align: middle;\n",
       "    }\n",
       "\n",
       "    .dataframe tbody tr th {\n",
       "        vertical-align: top;\n",
       "    }\n",
       "\n",
       "    .dataframe thead th {\n",
       "        text-align: right;\n",
       "    }\n",
       "</style>\n",
       "<table border=\"1\" class=\"dataframe\">\n",
       "  <thead>\n",
       "    <tr style=\"text-align: right;\">\n",
       "      <th></th>\n",
       "      <th>0</th>\n",
       "      <th>1</th>\n",
       "      <th>2</th>\n",
       "      <th>3</th>\n",
       "      <th>4</th>\n",
       "      <th>5</th>\n",
       "      <th>6</th>\n",
       "      <th>7</th>\n",
       "      <th>8</th>\n",
       "      <th>9</th>\n",
       "      <th>...</th>\n",
       "      <th>85</th>\n",
       "      <th>86</th>\n",
       "      <th>87</th>\n",
       "      <th>88</th>\n",
       "      <th>89</th>\n",
       "      <th>90</th>\n",
       "      <th>91</th>\n",
       "      <th>92</th>\n",
       "      <th>93</th>\n",
       "      <th>94</th>\n",
       "    </tr>\n",
       "  </thead>\n",
       "  <tbody>\n",
       "    <tr>\n",
       "      <th>0</th>\n",
       "      <td>4.0</td>\n",
       "      <td>3.0</td>\n",
       "      <td>20.0</td>\n",
       "      <td>2.0</td>\n",
       "      <td>1.0</td>\n",
       "      <td>1.0</td>\n",
       "      <td>357.0</td>\n",
       "      <td>0.0</td>\n",
       "      <td>0.0</td>\n",
       "      <td>0.0</td>\n",
       "      <td>...</td>\n",
       "      <td>0.057692</td>\n",
       "      <td>1.176471</td>\n",
       "      <td>272.513158</td>\n",
       "      <td>0.284500</td>\n",
       "      <td>0.171987</td>\n",
       "      <td>0.0</td>\n",
       "      <td>1.0</td>\n",
       "      <td>0.0</td>\n",
       "      <td>0.0</td>\n",
       "      <td>0.0</td>\n",
       "    </tr>\n",
       "    <tr>\n",
       "      <th>1</th>\n",
       "      <td>11.0</td>\n",
       "      <td>1.0</td>\n",
       "      <td>10.0</td>\n",
       "      <td>9.0</td>\n",
       "      <td>2.0</td>\n",
       "      <td>2.0</td>\n",
       "      <td>1224.0</td>\n",
       "      <td>2.0</td>\n",
       "      <td>0.0</td>\n",
       "      <td>0.0</td>\n",
       "      <td>...</td>\n",
       "      <td>0.032258</td>\n",
       "      <td>0.833333</td>\n",
       "      <td>500.860000</td>\n",
       "      <td>0.169186</td>\n",
       "      <td>0.215937</td>\n",
       "      <td>0.0</td>\n",
       "      <td>1.0</td>\n",
       "      <td>0.0</td>\n",
       "      <td>0.0</td>\n",
       "      <td>0.0</td>\n",
       "    </tr>\n",
       "    <tr>\n",
       "      <th>2</th>\n",
       "      <td>13.0</td>\n",
       "      <td>4.0</td>\n",
       "      <td>7.0</td>\n",
       "      <td>7.0</td>\n",
       "      <td>2.0</td>\n",
       "      <td>4.0</td>\n",
       "      <td>282.0</td>\n",
       "      <td>1.0</td>\n",
       "      <td>0.0</td>\n",
       "      <td>0.0</td>\n",
       "      <td>...</td>\n",
       "      <td>0.137931</td>\n",
       "      <td>0.583333</td>\n",
       "      <td>710.852941</td>\n",
       "      <td>0.286796</td>\n",
       "      <td>0.242594</td>\n",
       "      <td>0.0</td>\n",
       "      <td>1.0</td>\n",
       "      <td>0.0</td>\n",
       "      <td>0.0</td>\n",
       "      <td>0.0</td>\n",
       "    </tr>\n",
       "    <tr>\n",
       "      <th>3</th>\n",
       "      <td>8.0</td>\n",
       "      <td>1.0</td>\n",
       "      <td>7.0</td>\n",
       "      <td>4.0</td>\n",
       "      <td>2.0</td>\n",
       "      <td>2.0</td>\n",
       "      <td>348.0</td>\n",
       "      <td>1.0</td>\n",
       "      <td>0.0</td>\n",
       "      <td>0.0</td>\n",
       "      <td>...</td>\n",
       "      <td>0.035714</td>\n",
       "      <td>0.777778</td>\n",
       "      <td>230.733333</td>\n",
       "      <td>0.271769</td>\n",
       "      <td>0.241316</td>\n",
       "      <td>0.0</td>\n",
       "      <td>0.0</td>\n",
       "      <td>0.0</td>\n",
       "      <td>1.0</td>\n",
       "      <td>0.0</td>\n",
       "    </tr>\n",
       "    <tr>\n",
       "      <th>4</th>\n",
       "      <td>4.0</td>\n",
       "      <td>3.0</td>\n",
       "      <td>19.0</td>\n",
       "      <td>2.0</td>\n",
       "      <td>1.0</td>\n",
       "      <td>1.0</td>\n",
       "      <td>519.0</td>\n",
       "      <td>0.0</td>\n",
       "      <td>0.0</td>\n",
       "      <td>0.0</td>\n",
       "      <td>...</td>\n",
       "      <td>0.093750</td>\n",
       "      <td>0.760000</td>\n",
       "      <td>432.698113</td>\n",
       "      <td>0.192858</td>\n",
       "      <td>0.220034</td>\n",
       "      <td>0.0</td>\n",
       "      <td>1.0</td>\n",
       "      <td>0.0</td>\n",
       "      <td>0.0</td>\n",
       "      <td>0.0</td>\n",
       "    </tr>\n",
       "  </tbody>\n",
       "</table>\n",
       "<p>5 rows × 95 columns</p>\n",
       "</div>"
      ],
      "text/plain": [
       "     0    1     2    3    4    5       6    7    8    9   ...        85  \\\n",
       "0   4.0  3.0  20.0  2.0  1.0  1.0   357.0  0.0  0.0  0.0  ...  0.057692   \n",
       "1  11.0  1.0  10.0  9.0  2.0  2.0  1224.0  2.0  0.0  0.0  ...  0.032258   \n",
       "2  13.0  4.0   7.0  7.0  2.0  4.0   282.0  1.0  0.0  0.0  ...  0.137931   \n",
       "3   8.0  1.0   7.0  4.0  2.0  2.0   348.0  1.0  0.0  0.0  ...  0.035714   \n",
       "4   4.0  3.0  19.0  2.0  1.0  1.0   519.0  0.0  0.0  0.0  ...  0.093750   \n",
       "\n",
       "         86          87        88        89   90   91   92   93   94  \n",
       "0  1.176471  272.513158  0.284500  0.171987  0.0  1.0  0.0  0.0  0.0  \n",
       "1  0.833333  500.860000  0.169186  0.215937  0.0  1.0  0.0  0.0  0.0  \n",
       "2  0.583333  710.852941  0.286796  0.242594  0.0  1.0  0.0  0.0  0.0  \n",
       "3  0.777778  230.733333  0.271769  0.241316  0.0  0.0  0.0  1.0  0.0  \n",
       "4  0.760000  432.698113  0.192858  0.220034  0.0  1.0  0.0  0.0  0.0  \n",
       "\n",
       "[5 rows x 95 columns]"
      ]
     },
     "execution_count": 80,
     "metadata": {},
     "output_type": "execute_result"
    }
   ],
   "source": [
    "post_df = pd.DataFrame(data_post_pipeline)\n",
    "post_df.head()"
   ]
  },
  {
   "cell_type": "markdown",
   "id": "political-visitor",
   "metadata": {},
   "source": [
    "save the result"
   ]
  },
  {
   "cell_type": "code",
   "execution_count": 81,
   "id": "0c5c91cb",
   "metadata": {},
   "outputs": [
    {
     "name": "stderr",
     "output_type": "stream",
     "text": [
      "100%|██████████| 1000/1000 [00:00<00:00, 537593.44it/s]"
     ]
    },
    {
     "name": "stdout",
     "output_type": "stream",
     "text": [
      "{96}\n"
     ]
    },
    {
     "name": "stderr",
     "output_type": "stream",
     "text": [
      "\n"
     ]
    }
   ],
   "source": [
    "lengths = []\n",
    "for i, game in tqdm.tqdm(list(enumerate(post_df.itertuples()))):\n",
    "    lengths.append(len(game))\n",
    "print(set(lengths))\n"
   ]
  },
  {
   "cell_type": "code",
   "execution_count": 82,
   "id": "informational-hygiene",
   "metadata": {},
   "outputs": [
    {
     "name": "stderr",
     "output_type": "stream",
     "text": [
      "100%|██████████| 1000/1000 [01:58<00:00,  8.47it/s]\n"
     ]
    }
   ],
   "source": [
    "for i, game in tqdm.tqdm(list(enumerate(post_df.itertuples()))):\n",
    "    db_writer.write_processed_game(game, targets[i], player_ids[i])"
   ]
  },
  {
   "cell_type": "code",
   "execution_count": null,
   "id": "constant-north",
   "metadata": {},
   "outputs": [],
   "source": []
  }
 ],
 "metadata": {
  "kernelspec": {
   "display_name": "Python 3",
   "language": "python",
   "name": "python3"
  },
  "language_info": {
   "codemirror_mode": {
    "name": "ipython",
    "version": 3
   },
   "file_extension": ".py",
   "mimetype": "text/x-python",
   "name": "python",
   "nbconvert_exporter": "python",
   "pygments_lexer": "ipython3",
   "version": "3.8.12"
  }
 },
 "nbformat": 4,
 "nbformat_minor": 5
}
