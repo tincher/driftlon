{
 "cells": [
  {
   "cell_type": "markdown",
   "metadata": {},
   "source": [
    "# Feature selection"
   ]
  },
  {
   "cell_type": "markdown",
   "metadata": {},
   "source": [
    "## regression tree"
   ]
  },
  {
   "cell_type": "markdown",
   "metadata": {},
   "source": [
    "Build a regression tree to see which features are chosen first.\n",
    "\n",
    "PCA is advised to be done beforehand"
   ]
  },
  {
   "cell_type": "markdown",
   "metadata": {},
   "source": [
    "#### get data"
   ]
  },
  {
   "cell_type": "code",
   "execution_count": 8,
   "metadata": {},
   "outputs": [],
   "source": [
    "import sys\n",
    "import yaml\n",
    "import tqdm\n",
    "\n",
    "sys.path.append('/home/joel/projects/driftlon/analysis')\n",
    "sys.path.append('/home/joel/projects/driftlon')\n",
    "from correlation import *\n",
    "from analysis_utils import get_data_for_keys, get_common_keys"
   ]
  },
  {
   "cell_type": "code",
   "execution_count": 4,
   "metadata": {},
   "outputs": [],
   "source": [
    "X = pickle.load(open('../X.pkl', 'rb+'))\n",
    "Y = pickle.load(open('../Y.pkl', 'rb+'))\n",
    "\n",
    "y = [int(y_ > 0) for y_ in Y]"
   ]
  },
  {
   "cell_type": "code",
   "execution_count": 5,
   "metadata": {},
   "outputs": [
    {
     "data": {
      "text/plain": [
       "(87303, 87303, 87303)"
      ]
     },
     "execution_count": 5,
     "metadata": {},
     "output_type": "execute_result"
    }
   ],
   "source": [
    "len(X), len(Y), len(y)"
   ]
  },
  {
   "cell_type": "code",
   "execution_count": 6,
   "metadata": {},
   "outputs": [],
   "source": [
    "non_numerical_fields_path = './non_numeric_fields.yaml'\n",
    "\n",
    "with open(non_numerical_fields_path, 'r') as file_:\n",
    "    non_numerical_fields = yaml.load(file_.read(),  Loader=yaml.BaseLoader)"
   ]
  },
  {
   "cell_type": "code",
   "execution_count": 9,
   "metadata": {},
   "outputs": [],
   "source": [
    "common_keys = [x for x in get_common_keys(X) if x not in non_numerical_fields]\n",
    "data_for_keys = get_data_for_keys(common_keys, X)"
   ]
  },
  {
   "cell_type": "code",
   "execution_count": 10,
   "metadata": {},
   "outputs": [],
   "source": [
    "all_data = pd.DataFrame(data_for_keys).T.set_axis(common_keys, axis=1)\n",
    "quant_indices = [common_keys[x[0]] for x in enumerate(all_data.loc[0,:]) if type(x[1])==int] \n",
    "data = pd.DataFrame(all_data.loc[:,quant_indices])\n",
    "converted_data = data.apply(pd.to_numeric)"
   ]
  },
  {
   "cell_type": "markdown",
   "metadata": {},
   "source": [
    "#### build tree"
   ]
  },
  {
   "cell_type": "code",
   "execution_count": null,
   "metadata": {},
   "outputs": [],
   "source": [
    "from sklearn.tree import DecisionTreeClassifier, export_graphviz\n",
    "from sklearn.metrics import accuracy_score, recall_score"
   ]
  },
  {
   "cell_type": "code",
   "execution_count": null,
   "metadata": {},
   "outputs": [],
   "source": [
    "for i in range(2):\n",
    "    tree_clf = DecisionTreeClassifier(max_depth=i+1)\n",
    "\n",
    "    tree_clf.fit(all_data[:10000], y[:10000])\n",
    "    \n",
    "    # eval\n",
    "    pred = tree_clf.predict(all_data[10000:])\n",
    "    acc = accuracy_score(y[10000:], pred)\n",
    "    rec = recall_score(y[10000:], pred)\n",
    "    print(i, acc, rec)"
   ]
  },
  {
   "cell_type": "markdown",
   "metadata": {},
   "source": [
    "#### visualize tree"
   ]
  },
  {
   "cell_type": "code",
   "execution_count": null,
   "metadata": {},
   "outputs": [],
   "source": [
    "export_graphviz(tree_clf, \n",
    "                out_file=\"plots/driftlon_tree.dot\",\n",
    "                feature_names=common_keys,\n",
    "                class_names=['pro', 'pleb'],\n",
    "                rounded=True,\n",
    "                filled=True\n",
    "               ) "
   ]
  },
  {
   "cell_type": "code",
   "execution_count": null,
   "metadata": {},
   "outputs": [],
   "source": [
    "! dot -Tpng \"plots/driftlon_tree.dot\" -o plots/driftlon_tree.png"
   ]
  },
  {
   "cell_type": "markdown",
   "metadata": {},
   "source": [
    "#### load data from decision tree experiment and plot"
   ]
  },
  {
   "cell_type": "code",
   "execution_count": null,
   "metadata": {},
   "outputs": [],
   "source": [
    "import pandas as pd"
   ]
  },
  {
   "cell_type": "code",
   "execution_count": null,
   "metadata": {},
   "outputs": [],
   "source": [
    "decision_tree_raw = pd.read_csv('./decision_tree.csv')"
   ]
  },
  {
   "cell_type": "code",
   "execution_count": null,
   "metadata": {},
   "outputs": [],
   "source": [
    "decision_tree_acc_rec = decision_tree_raw.set_axis(['epoch','epoch','precision', 'recall'],axis='columns')[['precision', 'recall']]"
   ]
  },
  {
   "cell_type": "code",
   "execution_count": null,
   "metadata": {},
   "outputs": [],
   "source": [
    "decision_tree_acc_rec.loc[:10,:].plot(kind='line')"
   ]
  },
  {
   "cell_type": "markdown",
   "metadata": {},
   "source": [
    "## random forest"
   ]
  },
  {
   "cell_type": "markdown",
   "metadata": {},
   "source": [
    "Regression random forest\n",
    "\n",
    "get feature importance"
   ]
  },
  {
   "cell_type": "code",
   "execution_count": null,
   "metadata": {},
   "outputs": [],
   "source": [
    "from sklearn.ensemble import RandomForestRegressor, ExtraTreesRegressor\n",
    "import random"
   ]
  },
  {
   "cell_type": "code",
   "execution_count": null,
   "metadata": {},
   "outputs": [],
   "source": [
    "data_with_target = list(zip(all_data.to_numpy(), Y))\n",
    "random.shuffle(data_with_target)\n",
    "x_train, y_train = list(zip(*data_with_target[:40000]))\n",
    "x_test, y_test = list(zip(*data_with_target[40000:]))"
   ]
  },
  {
   "cell_type": "code",
   "execution_count": null,
   "metadata": {},
   "outputs": [],
   "source": [
    "rf_reg = RandomForestRegressor(n_estimators=5000, n_jobs=-1, oob_score=True, bootstrap=True)\n",
    "ef_reg = ExtraTreesRegressor(n_estimators=5000, n_jobs=-1, oob_score=True, bootstrap=True)"
   ]
  },
  {
   "cell_type": "code",
   "execution_count": null,
   "metadata": {},
   "outputs": [],
   "source": [
    "%%time\n",
    "for reg in (rf_reg, ef_reg):\n",
    "    reg.fit(x_train, y_train)\n",
    "    print(reg.oob_score_)\n",
    "    print(reg.score(x_test, y_test))"
   ]
  },
  {
   "cell_type": "code",
   "execution_count": null,
   "metadata": {},
   "outputs": [],
   "source": [
    "ran_importance = []\n",
    "et_importance = []\n",
    "\n",
    "for name, score in zip(common_keys, rf_reg.feature_importances_):\n",
    "    ran_importance.append((name, score))\n",
    "    \n",
    "for name, score in zip(common_keys, ef_reg.feature_importances_):\n",
    "    et_importance.append((name, score))"
   ]
  },
  {
   "cell_type": "code",
   "execution_count": null,
   "metadata": {},
   "outputs": [],
   "source": [
    "list(reversed(sorted(ran_importance, key=lambda x: x[1])))"
   ]
  },
  {
   "cell_type": "code",
   "execution_count": null,
   "metadata": {},
   "outputs": [],
   "source": [
    "list(reversed(sorted(et_importance, key=lambda x: x[1])))"
   ]
  },
  {
   "cell_type": "markdown",
   "metadata": {},
   "source": [
    "classification random forrest"
   ]
  },
  {
   "cell_type": "code",
   "execution_count": null,
   "metadata": {},
   "outputs": [],
   "source": [
    "from sklearn.ensemble import RandomForestClassifier, ExtraTreesClassifier\n",
    "import random"
   ]
  },
  {
   "cell_type": "code",
   "execution_count": null,
   "metadata": {},
   "outputs": [],
   "source": [
    "data_with_target = list(zip(all_data.to_numpy(), y))\n",
    "random.shuffle(data_with_target)\n",
    "x_train, y_train = list(zip(*data_with_target[:40000]))\n",
    "x_test, y_test = list(zip(*data_with_target[40000:]))"
   ]
  },
  {
   "cell_type": "code",
   "execution_count": null,
   "metadata": {},
   "outputs": [],
   "source": [
    "rf_clf = RandomForestClassifier(n_estimators=5000, n_jobs=-1, oob_score=True, bootstrap=True)\n",
    "ef_clf = ExtraTreesClassifier(n_estimators=5000, n_jobs=-1, oob_score=True, bootstrap=True)"
   ]
  },
  {
   "cell_type": "code",
   "execution_count": null,
   "metadata": {},
   "outputs": [],
   "source": [
    "%%time\n",
    "for reg in (rf_reg, ef_reg):\n",
    "    reg.fit(x_train, y_train)\n",
    "    print(reg.oob_score_)\n",
    "    print(reg.score(x_test, y_test))"
   ]
  },
  {
   "cell_type": "code",
   "execution_count": null,
   "metadata": {},
   "outputs": [],
   "source": [
    "ran_importance = []\n",
    "et_importance = []\n",
    "\n",
    "for name, score in zip(common_keys, rf_reg.feature_importances_):\n",
    "    ran_importance.append((name, score))\n",
    "    \n",
    "for name, score in zip(common_keys, ef_reg.feature_importances_):\n",
    "    et_importance.append((name, score))"
   ]
  },
  {
   "cell_type": "code",
   "execution_count": null,
   "metadata": {},
   "outputs": [],
   "source": [
    "list(reversed(sorted(ran_importance, key=lambda x: x[1])))"
   ]
  },
  {
   "cell_type": "code",
   "execution_count": null,
   "metadata": {},
   "outputs": [],
   "source": [
    "list(reversed(sorted(et_importance, key=lambda x: x[1])))"
   ]
  },
  {
   "cell_type": "code",
   "execution_count": null,
   "metadata": {},
   "outputs": [],
   "source": []
  }
 ],
 "metadata": {
  "kernelspec": {
   "display_name": "Python 3",
   "language": "python",
   "name": "python3"
  },
  "language_info": {
   "codemirror_mode": {
    "name": "ipython",
    "version": 3
   },
   "file_extension": ".py",
   "mimetype": "text/x-python",
   "name": "python",
   "nbconvert_exporter": "python",
   "pygments_lexer": "ipython3",
   "version": "3.8.10"
  }
 },
 "nbformat": 4,
 "nbformat_minor": 4
}
