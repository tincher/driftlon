{
 "cells": [
  {
   "cell_type": "code",
   "execution_count": 4,
   "metadata": {},
   "outputs": [],
   "source": [
    "import get_data as driftlon_dataset\n",
    "import tensorflow as tf\n",
    "from tensorflow.keras.models import Sequential\n",
    "from tensorflow.keras.layers import Dense, Dropout, LSTM\n",
    "from datetime import datetime\n",
    "import numpy as np"
   ]
  },
  {
   "cell_type": "code",
   "execution_count": 5,
   "metadata": {},
   "outputs": [],
   "source": [
    "batch_size = 2000\n",
    "\n",
    "(train_games, train_targets) = driftlon_dataset.get_data_batch(batch_size)\n",
    "\n",
    "batch_size = len(train_games)\n",
    "\n",
    "train_games = np.array(train_games)\n",
    "train_targets = np.array(train_targets)\n",
    "\n",
    "encoded = []\n",
    "for target in train_targets:\n",
    "    target_vector = [0, 0]\n",
    "    target_vector[target] = 1\n",
    "    encoded.append(target_vector)\n",
    "train_targets = np.array(encoded)\n",
    "\n",
    "#train_targets = train_targets.reshape(batch_size,1)"
   ]
  },
  {
   "cell_type": "code",
   "execution_count": 6,
   "metadata": {},
   "outputs": [
    {
     "name": "stdout",
     "output_type": "stream",
     "text": [
      "Model: \"sequential_1\"\n",
      "_________________________________________________________________\n",
      "Layer (type)                 Output Shape              Param #   \n",
      "=================================================================\n",
      "lstm_2 (LSTM)                (None, 50, 256)           299008    \n",
      "_________________________________________________________________\n",
      "dropout_3 (Dropout)          (None, 50, 256)           0         \n",
      "_________________________________________________________________\n",
      "lstm_3 (LSTM)                (None, 256)               525312    \n",
      "_________________________________________________________________\n",
      "dropout_4 (Dropout)          (None, 256)               0         \n",
      "_________________________________________________________________\n",
      "dense_3 (Dense)              (None, 256)               65792     \n",
      "_________________________________________________________________\n",
      "dropout_5 (Dropout)          (None, 256)               0         \n",
      "_________________________________________________________________\n",
      "dense_4 (Dense)              (None, 32)                8224      \n",
      "_________________________________________________________________\n",
      "dense_5 (Dense)              (None, 2)                 66        \n",
      "=================================================================\n",
      "Total params: 898,402\n",
      "Trainable params: 898,402\n",
      "Non-trainable params: 0\n",
      "_________________________________________________________________\n"
     ]
    }
   ],
   "source": [
    "model = Sequential()\n",
    "model.add(LSTM(256, input_shape=(50, 35), activation='relu', return_sequences=True))\n",
    "model.add(Dropout(0.2))\n",
    "\n",
    "model.add(LSTM(256, activation='relu'))\n",
    "model.add(Dropout(0.2))\n",
    "\n",
    "#model.add(LSTM(128, activation='relu'))\n",
    "#model.add(Dropout(0.2))\n",
    "\n",
    "\n",
    "\n",
    "model.add(Dense(256, activation='relu'))\n",
    "model.add(Dropout(0.2))\n",
    "\n",
    "model.add(Dense(32, activation='softmax'))\n",
    "\n",
    "model.add(Dense(2, activation='softmax'))\n",
    "\n",
    "model.summary()"
   ]
  },
  {
   "cell_type": "code",
   "execution_count": 7,
   "metadata": {},
   "outputs": [],
   "source": [
    "model.compile(loss=tf.keras.losses.BinaryCrossentropy(), optimizer=tf.keras.optimizers.Adam(), metrics=['accuracy'])"
   ]
  },
  {
   "cell_type": "code",
   "execution_count": 8,
   "metadata": {},
   "outputs": [],
   "source": [
    "logdir='tb_logs/fit/' + 'lstm-' + datetime.now().strftime('%Y%m%d-%H%M%S')\n",
    "tensorboard_callback = tf.keras.callbacks.TensorBoard(log_dir=logdir)"
   ]
  },
  {
   "cell_type": "code",
   "execution_count": 9,
   "metadata": {},
   "outputs": [
    {
     "name": "stdout",
     "output_type": "stream",
     "text": [
      "Train on 695 samples\n",
      "Epoch 1/20\n",
      "695/695 [==============================] - 12s 18ms/sample - loss: 0.6925 - accuracy: 0.5122\n",
      "Epoch 2/20\n",
      "695/695 [==============================] - 6s 9ms/sample - loss: 0.6797 - accuracy: 0.5496\n",
      "Epoch 3/20\n",
      "695/695 [==============================] - 6s 9ms/sample - loss: 0.6829 - accuracy: 0.5381\n",
      "Epoch 4/20\n",
      "695/695 [==============================] - 6s 9ms/sample - loss: 0.6771 - accuracy: 0.5511\n",
      "Epoch 5/20\n",
      "695/695 [==============================] - 6s 9ms/sample - loss: 0.6861 - accuracy: 0.5439\n",
      "Epoch 6/20\n",
      "695/695 [==============================] - 6s 9ms/sample - loss: 0.6930 - accuracy: 0.5266\n",
      "Epoch 7/20\n",
      "695/695 [==============================] - 6s 9ms/sample - loss: 0.6683 - accuracy: 0.6086\n",
      "Epoch 8/20\n",
      "695/695 [==============================] - 6s 9ms/sample - loss: 0.6785 - accuracy: 0.5885\n",
      "Epoch 9/20\n",
      "695/695 [==============================] - 6s 9ms/sample - loss: 0.6836 - accuracy: 0.5568\n",
      "Epoch 10/20\n",
      "695/695 [==============================] - 6s 9ms/sample - loss: 0.6727 - accuracy: 0.6115\n",
      "Epoch 11/20\n",
      "695/695 [==============================] - 6s 9ms/sample - loss: 0.6768 - accuracy: 0.6230\n",
      "Epoch 12/20\n",
      "695/695 [==============================] - 6s 9ms/sample - loss: 0.6698 - accuracy: 0.6187\n",
      "Epoch 13/20\n",
      "695/695 [==============================] - 6s 9ms/sample - loss: 0.6747 - accuracy: 0.6187\n",
      "Epoch 14/20\n",
      "695/695 [==============================] - 6s 9ms/sample - loss: 0.6733 - accuracy: 0.6201\n",
      "Epoch 15/20\n",
      "695/695 [==============================] - 6s 9ms/sample - loss: 0.6706 - accuracy: 0.6115\n",
      "Epoch 16/20\n",
      "695/695 [==============================] - 6s 9ms/sample - loss: 0.6656 - accuracy: 0.6288\n",
      "Epoch 17/20\n",
      "695/695 [==============================] - 6s 9ms/sample - loss: 0.6648 - accuracy: 0.6345\n",
      "Epoch 18/20\n",
      "695/695 [==============================] - 6s 9ms/sample - loss: 0.6609 - accuracy: 0.6245\n",
      "Epoch 19/20\n",
      "695/695 [==============================] - 6s 9ms/sample - loss: 0.6701 - accuracy: 0.6288\n",
      "Epoch 20/20\n",
      "695/695 [==============================] - 6s 9ms/sample - loss: 0.6610 - accuracy: 0.6273\n"
     ]
    },
    {
     "data": {
      "text/plain": [
       "<tensorflow.python.keras.callbacks.History at 0x7f9ab47d0f90>"
      ]
     },
     "execution_count": 9,
     "metadata": {},
     "output_type": "execute_result"
    }
   ],
   "source": [
    "# Train the model.\n",
    "model.fit(train_games, train_targets, batch_size=50, epochs=20, callbacks=[tensorboard_callback])"
   ]
  },
  {
   "cell_type": "code",
   "execution_count": 7,
   "metadata": {},
   "outputs": [],
   "source": [
    "test_batch_size = 100\n",
    "\n",
    "(test_games, test_targets) = driftlon_dataset.get_data_batch(test_batch_size)\n",
    "test_games = np.array(test_games)\n",
    "test_targets = np.array(test_targets)\n",
    "\n",
    "test_encoded = []\n",
    "for target in test_targets:\n",
    "    target_vector = [0, 0]\n",
    "    target_vector[target] = 1\n",
    "    test_encoded.append(target_vector)\n",
    "test_targets = np.array(test_encoded)\n",
    "\n",
    "#train_targets = train_targets.reshape(batch_size,1)"
   ]
  },
  {
   "cell_type": "code",
   "execution_count": 17,
   "metadata": {},
   "outputs": [
    {
     "name": "stdout",
     "output_type": "stream",
     "text": [
      "\r",
      "100/1 [========================================================================================================================================================================================================================================================================================================================================================================================================================================================================================================================================================================================================================================================================================================================================================================================================================================================================================================================================================================================================================================================================================================================================================================================================================================================================================================================================================================================================================================================================================================================================================================================================================================================================================================================================================================================================================================================================================================================================================================================================================================================================================================================================================================================================================================================================================================================================================================================================================================================================================================================================================================================================================================================================================================================================================================================================================================================================================================================================================================================================================================================================================================================] - 1s 12ms/sample - loss: 0.5312 - accuracy: 0.6700\n"
     ]
    },
    {
     "data": {
      "text/plain": [
       "[0.6333503758907318, 0.67]"
      ]
     },
     "execution_count": 17,
     "metadata": {},
     "output_type": "execute_result"
    }
   ],
   "source": [
    "model.evaluate(test_games, test_targets)"
   ]
  },
  {
   "cell_type": "code",
   "execution_count": null,
   "metadata": {},
   "outputs": [],
   "source": []
  },
  {
   "cell_type": "code",
   "execution_count": null,
   "metadata": {},
   "outputs": [],
   "source": []
  }
 ],
 "metadata": {
  "kernelspec": {
   "display_name": "Python 3",
   "language": "python",
   "name": "python3"
  },
  "language_info": {
   "codemirror_mode": {
    "name": "ipython",
    "version": 3
   },
   "file_extension": ".py",
   "mimetype": "text/x-python",
   "name": "python",
   "nbconvert_exporter": "python",
   "pygments_lexer": "ipython3",
   "version": "3.7.3"
  }
 },
 "nbformat": 4,
 "nbformat_minor": 4
}
