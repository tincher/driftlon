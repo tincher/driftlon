{
 "cells": [
  {
   "cell_type": "markdown",
   "id": "increased-scratch",
   "metadata": {},
   "source": [
    "# Total Pro Games Prediction using LSTM"
   ]
  },
  {
   "cell_type": "markdown",
   "id": "liquid-southwest",
   "metadata": {},
   "source": [
    "input: x consecutive games\n",
    "\n",
    "output: pro games\n",
    "\n",
    "technique: rnn (lstm)"
   ]
  },
  {
   "cell_type": "code",
   "execution_count": 1,
   "id": "visible-custom",
   "metadata": {},
   "outputs": [],
   "source": [
    "import torch\n",
    "import numpy as np"
   ]
  },
  {
   "cell_type": "code",
   "execution_count": 2,
   "id": "scenic-intake",
   "metadata": {},
   "outputs": [],
   "source": [
    "import sys\n",
    "import yaml\n",
    "sys.path.append('.')\n",
    "from dataset import DriftlonDataset"
   ]
  },
  {
   "cell_type": "code",
   "execution_count": 5,
   "id": "welcome-might",
   "metadata": {},
   "outputs": [],
   "source": [
    "mongo_config = yaml.safe_load(open('/Users/joelewig/projects/driftlon/config.yml', 'r'))['mongodb']\n",
    "dataset = DriftlonDataset(match_count=10, classification_target=True, mongo_config=mongo_config)"
   ]
  },
  {
   "cell_type": "code",
   "execution_count": null,
   "id": "09238d5f",
   "metadata": {},
   "outputs": [],
   "source": []
  }
 ],
 "metadata": {
  "kernelspec": {
   "display_name": "Python 3",
   "language": "python",
   "name": "python3"
  },
  "language_info": {
   "codemirror_mode": {
    "name": "ipython",
    "version": 3
   },
   "file_extension": ".py",
   "mimetype": "text/x-python",
   "name": "python",
   "nbconvert_exporter": "python",
   "pygments_lexer": "ipython3",
   "version": "3.8.12"
  }
 },
 "nbformat": 4,
 "nbformat_minor": 5
}
