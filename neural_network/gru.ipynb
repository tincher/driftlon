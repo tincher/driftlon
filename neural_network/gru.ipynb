{
 "cells": [
  {
   "cell_type": "code",
   "execution_count": 1,
   "metadata": {},
   "outputs": [],
   "source": [
    "import get_data as driftlon_dataset\n",
    "import tensorflow as tf\n",
    "from tensorflow.keras.models import Sequential\n",
    "from tensorflow.keras.layers import Dense, GRU, Dropout, TimeDistributed\n",
    "from datetime import datetime\n",
    "import numpy as np"
   ]
  },
  {
   "cell_type": "code",
   "execution_count": 2,
   "metadata": {},
   "outputs": [],
   "source": [
    "batch_size = 2000\n",
    "match_depth = 50\n",
    "\n",
    "(train_games, train_targets) = driftlon_dataset.get_data_batch(batch_size, match_depth)\n",
    "\n",
    "batch_size = len(train_games)\n",
    "\n",
    "train_games = np.array(train_games)\n",
    "train_targets = np.array(train_targets)\n",
    "\n",
    "encoded = []\n",
    "for target in train_targets:\n",
    "    target_vector = [0, 0]\n",
    "    target_vector[target] = 1\n",
    "    encoded.append(target_vector)\n",
    "train_targets = np.array(encoded)\n",
    "\n",
    "#train_targets = train_targets.reshape(batch_size,1)"
   ]
  },
  {
   "cell_type": "code",
   "execution_count": 20,
   "metadata": {},
   "outputs": [],
   "source": [
    "activation = \"None\"\n",
    "\n",
    "model = Sequential()\n",
    "\n",
    "model.add(GRU(128, input_shape=(match_depth, 35), return_sequences=True))\n",
    "model.add(Dropout(0.1))\n",
    "\n",
    "model.add(GRU(128, return_sequences=True))\n",
    "model.add(Dropout(0.25))\n",
    "\n",
    "model.add(GRU(128))\n",
    "model.add(Dropout(0.25))\n",
    "\n",
    "model.add(Dense(128))\n",
    "model.add(Dense(128))\n",
    "model.add(Dense(2))\n",
    "\n",
    "#model.add(Dense(128, activation=activation))\n",
    "#model.add(Dense(128, activation=activation))\n",
    "#model.add(Dense(2, activation=activation))\n",
    "\n",
    "#model.summary()"
   ]
  },
  {
   "cell_type": "code",
   "execution_count": 21,
   "metadata": {},
   "outputs": [],
   "source": [
    "loss = tf.keras.losses.BinaryCrossentropy()\n",
    "optimizer=tf.keras.optimizers.Adagrad()\n",
    "metrics=['accuracy']\n",
    "\n",
    "model.compile(loss=loss, optimizer=optimizer, metrics=metrics)"
   ]
  },
  {
   "cell_type": "code",
   "execution_count": 22,
   "metadata": {},
   "outputs": [],
   "source": [
    "suffix = 'gru-' + activation + '-' + datetime.now().strftime('%Y%m%d-%H%M%S')\n",
    "#logdir='tb_logs/fit/' + suffix\n",
    "logdir='tb_logs/activation_fns/' + suffix\n",
    "tensorboard_callback = tf.keras.callbacks.TensorBoard(log_dir=logdir)"
   ]
  },
  {
   "cell_type": "code",
   "execution_count": 23,
   "metadata": {},
   "outputs": [
    {
     "name": "stdout",
     "output_type": "stream",
     "text": [
      "Train on 695 samples\n",
      "Epoch 1/10\n",
      "695/695 [==============================] - 18s 26ms/sample - loss: 2.2138 - accuracy: 0.5000\n",
      "Epoch 2/10\n",
      "695/695 [==============================] - 6s 8ms/sample - loss: 1.6196 - accuracy: 0.5000\n",
      "Epoch 3/10\n",
      "695/695 [==============================] - 6s 8ms/sample - loss: 1.5504 - accuracy: 0.4993\n",
      "Epoch 4/10\n",
      "695/695 [==============================] - 6s 8ms/sample - loss: 1.4723 - accuracy: 0.5007\n",
      "Epoch 5/10\n",
      "695/695 [==============================] - 6s 8ms/sample - loss: 1.4353 - accuracy: 0.5000\n",
      "Epoch 6/10\n",
      "695/695 [==============================] - 6s 8ms/sample - loss: 1.4194 - accuracy: 0.5000\n",
      "Epoch 7/10\n",
      "695/695 [==============================] - 6s 8ms/sample - loss: 1.3900 - accuracy: 0.5000\n",
      "Epoch 8/10\n",
      "695/695 [==============================] - 6s 8ms/sample - loss: 1.3443 - accuracy: 0.4978\n",
      "Epoch 9/10\n",
      "695/695 [==============================] - 6s 8ms/sample - loss: 1.2958 - accuracy: 0.5014\n",
      "Epoch 10/10\n",
      "695/695 [==============================] - 6s 8ms/sample - loss: 1.2569 - accuracy: 0.5000\n"
     ]
    }
   ],
   "source": [
    "hist = model.fit(train_games, train_targets, batch_size=50, epochs=10, callbacks=[tensorboard_callback])\n",
    "\n",
    "if hist.history.get('accuracy')[-1] > 0.7:\n",
    "    model.save('./neural_networks/saved_models/model-' + suffix)"
   ]
  },
  {
   "cell_type": "code",
   "execution_count": 31,
   "metadata": {},
   "outputs": [],
   "source": [
    "test_batch_size = 100\n",
    "\n",
    "(test_games, test_targets) = driftlon_dataset.get_data_batch(test_batch_size)\n",
    "test_games = np.array(test_games)\n",
    "test_targets = np.array(test_targets)\n",
    "\n",
    "test_encoded = []\n",
    "for target in test_targets:\n",
    "    target_vector = [0, 0]\n",
    "    target_vector[target] = 1\n",
    "    test_encoded.append(target_vector)\n",
    "test_targets = np.array(test_encoded)\n",
    "\n",
    "#train_targets = train_targets.reshape(batch_size,1)"
   ]
  },
  {
   "cell_type": "code",
   "execution_count": 32,
   "metadata": {},
   "outputs": [
    {
     "name": "stdout",
     "output_type": "stream",
     "text": [
      "\r",
      "100/1 [========================================================================================================================================================================================================================================================================================================================================================================================================================================================================================================================================================================================================================================================================================================================================================================================================================================================================================================================================================================================================================================================================================================================================================================================================================================================================================================================================================================================================================================================================================================================================================================================================================================================================================================================================================================================================================================================================================================================================================================================================================================================================================================================================================================================================================================================================================================================================================================================================================================================================================================================================================================================================================================================================================================================================================================================================================================================================================================================================================================================================================================================================================================================] - 2s 22ms/sample - loss: 0.6400 - accuracy: 0.5800\n"
     ]
    },
    {
     "data": {
      "text/plain": [
       "[0.6860414290428162, 0.58]"
      ]
     },
     "execution_count": 32,
     "metadata": {},
     "output_type": "execute_result"
    }
   ],
   "source": [
    "model.evaluate(test_games, test_targets)"
   ]
  },
  {
   "cell_type": "code",
   "execution_count": null,
   "metadata": {},
   "outputs": [],
   "source": []
  },
  {
   "cell_type": "code",
   "execution_count": null,
   "metadata": {},
   "outputs": [],
   "source": []
  }
 ],
 "metadata": {
  "kernelspec": {
   "display_name": "Python 3",
   "language": "python",
   "name": "python3"
  },
  "language_info": {
   "codemirror_mode": {
    "name": "ipython",
    "version": 3
   },
   "file_extension": ".py",
   "mimetype": "text/x-python",
   "name": "python",
   "nbconvert_exporter": "python",
   "pygments_lexer": "ipython3",
   "version": "3.7.6"
  }
 },
 "nbformat": 4,
 "nbformat_minor": 4
}
