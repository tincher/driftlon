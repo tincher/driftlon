{
 "cells": [
  {
   "cell_type": "code",
   "execution_count": 1,
   "metadata": {},
   "outputs": [],
   "source": [
    "import get_data as driftlon_dataset\n",
    "import tensorflow as tf\n",
    "from tensorflow.keras.models import Sequential\n",
    "from tensorflow.keras.layers import Dense, Dropout, LSTM\n",
    "from datetime import datetime\n",
    "import numpy as np"
   ]
  },
  {
   "cell_type": "code",
   "execution_count": 2,
   "metadata": {},
   "outputs": [],
   "source": [
    "batch_size = 2000\n",
    "\n",
    "(train_games, train_targets) = driftlon_dataset.get_data_batch(batch_size)\n",
    "\n",
    "batch_size = len(train_games)\n",
    "\n",
    "train_games = np.array(train_games)\n",
    "train_targets = np.array(train_targets)\n",
    "\n",
    "encoded = []\n",
    "for target in train_targets:\n",
    "    target_vector = [0, 0]\n",
    "    target_vector[target] = 1\n",
    "    encoded.append(target_vector)\n",
    "train_targets = np.array(encoded)\n",
    "\n",
    "#train_targets = train_targets.reshape(batch_size,1)"
   ]
  },
  {
   "cell_type": "code",
   "execution_count": 3,
   "metadata": {},
   "outputs": [
    {
     "name": "stdout",
     "output_type": "stream",
     "text": [
      "Model: \"sequential\"\n",
      "_________________________________________________________________\n",
      "Layer (type)                 Output Shape              Param #   \n",
      "=================================================================\n",
      "lstm (LSTM)                  (None, 50, 256)           299008    \n",
      "_________________________________________________________________\n",
      "dropout (Dropout)            (None, 50, 256)           0         \n",
      "_________________________________________________________________\n",
      "lstm_1 (LSTM)                (None, 256)               525312    \n",
      "_________________________________________________________________\n",
      "dropout_1 (Dropout)          (None, 256)               0         \n",
      "_________________________________________________________________\n",
      "dense (Dense)                (None, 256)               65792     \n",
      "_________________________________________________________________\n",
      "dropout_2 (Dropout)          (None, 256)               0         \n",
      "_________________________________________________________________\n",
      "dense_1 (Dense)              (None, 32)                8224      \n",
      "_________________________________________________________________\n",
      "dense_2 (Dense)              (None, 2)                 66        \n",
      "=================================================================\n",
      "Total params: 898,402\n",
      "Trainable params: 898,402\n",
      "Non-trainable params: 0\n",
      "_________________________________________________________________\n"
     ]
    }
   ],
   "source": [
    "model = Sequential()\n",
    "model.add(LSTM(256, input_shape=(50, 35), activation='relu', return_sequences=True))\n",
    "model.add(Dropout(0.2))\n",
    "\n",
    "model.add(LSTM(256, activation='relu'))\n",
    "model.add(Dropout(0.2))\n",
    "\n",
    "#model.add(LSTM(128, activation='relu'))\n",
    "#model.add(Dropout(0.2))\n",
    "\n",
    "\n",
    "\n",
    "model.add(Dense(256, activation='relu'))\n",
    "model.add(Dropout(0.2))\n",
    "\n",
    "model.add(Dense(32, activation='softmax'))\n",
    "\n",
    "model.add(Dense(2, activation='softmax'))\n",
    "\n",
    "#model.summary()"
   ]
  },
  {
   "cell_type": "code",
   "execution_count": 4,
   "metadata": {},
   "outputs": [],
   "source": [
    "model.compile(loss=tf.keras.losses.BinaryCrossentropy(), optimizer=tf.keras.optimizers.Adam(), metrics=['accuracy'])"
   ]
  },
  {
   "cell_type": "code",
   "execution_count": 5,
   "metadata": {},
   "outputs": [],
   "source": [
    "logdir='tb_logs/fit/' + datetime.now().strftime('%Y%m%d-%H%M%S')\n",
    "tensorboard_callback = tf.keras.callbacks.TensorBoard(log_dir=logdir)"
   ]
  },
  {
   "cell_type": "code",
   "execution_count": 6,
   "metadata": {},
   "outputs": [
    {
     "name": "stdout",
     "output_type": "stream",
     "text": [
      "Train on 645 samples\n",
      "Epoch 1/20\n",
      "645/645 [==============================] - 11s 18ms/sample - loss: 0.6916 - accuracy: 0.5519\n",
      "Epoch 2/20\n",
      "645/645 [==============================] - 6s 9ms/sample - loss: 0.6930 - accuracy: 0.5132\n",
      "Epoch 3/20\n",
      "645/645 [==============================] - 6s 9ms/sample - loss: 0.6810 - accuracy: 0.5457\n",
      "Epoch 4/20\n",
      "645/645 [==============================] - 6s 9ms/sample - loss: 0.6707 - accuracy: 0.5938\n",
      "Epoch 5/20\n",
      "645/645 [==============================] - 6s 9ms/sample - loss: 0.6736 - accuracy: 0.6202\n",
      "Epoch 6/20\n",
      "645/645 [==============================] - 6s 9ms/sample - loss: 0.6704 - accuracy: 0.6171\n",
      "Epoch 7/20\n",
      "645/645 [==============================] - 6s 9ms/sample - loss: 0.6718 - accuracy: 0.6093\n",
      "Epoch 8/20\n",
      "645/645 [==============================] - 6s 9ms/sample - loss: 0.6660 - accuracy: 0.6186\n",
      "Epoch 9/20\n",
      "645/645 [==============================] - 6s 9ms/sample - loss: 0.6673 - accuracy: 0.6109\n",
      "Epoch 10/20\n",
      "645/645 [==============================] - 6s 9ms/sample - loss: 0.6744 - accuracy: 0.6140\n",
      "Epoch 11/20\n",
      "645/645 [==============================] - 6s 9ms/sample - loss: 0.6713 - accuracy: 0.6124\n",
      "Epoch 12/20\n",
      "645/645 [==============================] - 6s 9ms/sample - loss: 0.6585 - accuracy: 0.6202\n",
      "Epoch 13/20\n",
      "645/645 [==============================] - 6s 9ms/sample - loss: 0.6661 - accuracy: 0.6248\n",
      "Epoch 14/20\n",
      "645/645 [==============================] - 6s 9ms/sample - loss: 0.6668 - accuracy: 0.6186\n",
      "Epoch 15/20\n",
      "645/645 [==============================] - 6s 9ms/sample - loss: 0.6612 - accuracy: 0.6264\n",
      "Epoch 16/20\n",
      "645/645 [==============================] - 6s 9ms/sample - loss: 0.6653 - accuracy: 0.6202\n",
      "Epoch 17/20\n",
      "645/645 [==============================] - 6s 9ms/sample - loss: 0.6619 - accuracy: 0.6248\n",
      "Epoch 18/20\n",
      "645/645 [==============================] - 6s 9ms/sample - loss: 0.6616 - accuracy: 0.6233\n",
      "Epoch 19/20\n",
      "645/645 [==============================] - 6s 9ms/sample - loss: 0.6631 - accuracy: 0.6217\n",
      "Epoch 20/20\n",
      "645/645 [==============================] - 6s 9ms/sample - loss: 0.6627 - accuracy: 0.6248\n"
     ]
    },
    {
     "data": {
      "text/plain": [
       "<tensorflow.python.keras.callbacks.History at 0x7ff03cdca050>"
      ]
     },
     "execution_count": 6,
     "metadata": {},
     "output_type": "execute_result"
    }
   ],
   "source": [
    "# Train the model.\n",
    "model.fit(train_games, train_targets, batch_size=50, epochs=20, callbacks=[tensorboard_callback])"
   ]
  },
  {
   "cell_type": "code",
   "execution_count": 7,
   "metadata": {},
   "outputs": [],
   "source": [
    "test_batch_size = 100\n",
    "\n",
    "(test_games, test_targets) = driftlon_dataset.get_data_batch(test_batch_size)\n",
    "test_games = np.array(test_games)\n",
    "test_targets = np.array(test_targets)\n",
    "\n",
    "test_encoded = []\n",
    "for target in test_targets:\n",
    "    target_vector = [0, 0]\n",
    "    target_vector[target] = 1\n",
    "    test_encoded.append(target_vector)\n",
    "test_targets = np.array(test_encoded)\n",
    "\n",
    "#train_targets = train_targets.reshape(batch_size,1)"
   ]
  },
  {
   "cell_type": "code",
   "execution_count": 17,
   "metadata": {},
   "outputs": [
    {
     "name": "stdout",
     "output_type": "stream",
     "text": [
      "\r",
      "100/1 [========================================================================================================================================================================================================================================================================================================================================================================================================================================================================================================================================================================================================================================================================================================================================================================================================================================================================================================================================================================================================================================================================================================================================================================================================================================================================================================================================================================================================================================================================================================================================================================================================================================================================================================================================================================================================================================================================================================================================================================================================================================================================================================================================================================================================================================================================================================================================================================================================================================================================================================================================================================================================================================================================================================================================================================================================================================================================================================================================================================================================================================================================================================================] - 1s 12ms/sample - loss: 0.5312 - accuracy: 0.6700\n"
     ]
    },
    {
     "data": {
      "text/plain": [
       "[0.6333503758907318, 0.67]"
      ]
     },
     "execution_count": 17,
     "metadata": {},
     "output_type": "execute_result"
    }
   ],
   "source": [
    "model.evaluate(test_games, test_targets)"
   ]
  },
  {
   "cell_type": "code",
   "execution_count": null,
   "metadata": {},
   "outputs": [],
   "source": []
  },
  {
   "cell_type": "code",
   "execution_count": null,
   "metadata": {},
   "outputs": [],
   "source": []
  }
 ],
 "metadata": {
  "kernelspec": {
   "display_name": "Python 3",
   "language": "python",
   "name": "python3"
  },
  "language_info": {
   "codemirror_mode": {
    "name": "ipython",
    "version": 3
   },
   "file_extension": ".py",
   "mimetype": "text/x-python",
   "name": "python",
   "nbconvert_exporter": "python",
   "pygments_lexer": "ipython3",
   "version": "3.7.6"
  }
 },
 "nbformat": 4,
 "nbformat_minor": 4
}
