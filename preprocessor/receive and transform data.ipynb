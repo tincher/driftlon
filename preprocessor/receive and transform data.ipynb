{
 "cells": [
  {
   "cell_type": "markdown",
   "id": "adult-procurement",
   "metadata": {},
   "source": [
    "# receive and transform data"
   ]
  },
  {
   "cell_type": "markdown",
   "id": "instrumental-regulation",
   "metadata": {},
   "source": [
    "the data should be received, then transformed, then saved"
   ]
  },
  {
   "cell_type": "code",
   "execution_count": 1,
   "id": "collected-exhibition",
   "metadata": {},
   "outputs": [],
   "source": [
    "import sys\n",
    "import yaml\n",
    "import os\n",
    "my_pwd = '/Users/joelewig'\n",
    "sys.path.append(os.path.join(my_pwd, 'projects/driftlon/analysis'))\n",
    "sys.path.append(os.path.join(my_pwd, 'projects/driftlon'))\n",
    "sys.path.append(os.path.join(my_pwd, 'projects/driftlon/data_fetcher'))\n",
    "from preprocessing_utils import DataFetcher, transform_data_to_np\n",
    "from get_from_db import DBReader\n",
    "from write_to_db import DBWriter\n",
    "import numpy as np\n",
    "import pandas as pd\n",
    "import tqdm\n",
    "from sklearn.preprocessing import StandardScaler"
   ]
  },
  {
   "cell_type": "markdown",
   "id": "collective-baker",
   "metadata": {},
   "source": [
    "load data"
   ]
  },
  {
   "cell_type": "code",
   "execution_count": 2,
   "id": "advisory-orientation",
   "metadata": {},
   "outputs": [],
   "source": [
    "mongo_config = yaml.safe_load(open(os.path.join(my_pwd, 'projects/driftlon/config.yml'), 'r'))['mongodb']\n",
    "db_reader = DBReader(mongo_config['address'], mongo_config['username'], mongo_config['password'])\n",
    "db_writer = DBWriter(mongo_config['address'], mongo_config['username'], mongo_config['password'])\n",
    "fetcher = DataFetcher(mongo_config['address'], mongo_config['username'], mongo_config['password'])"
   ]
  },
  {
   "cell_type": "code",
   "execution_count": 3,
   "id": "fitted-spokesman",
   "metadata": {},
   "outputs": [],
   "source": [
    "# raw_data, target = fetcher.get_raw_data_batch(10, offset=10000)\n",
    "raw_filtered_data, targets, player_ids = fetcher.get_filtered_data_batch(10000, offset=0)"
   ]
  },
  {
   "cell_type": "markdown",
   "id": "brown-chassis",
   "metadata": {},
   "source": [
    "### to pandas"
   ]
  },
  {
   "cell_type": "code",
   "execution_count": null,
   "id": "designed-knight",
   "metadata": {},
   "outputs": [],
   "source": [
    "data, feature_names = list(zip(*map(transform_data_to_np, raw_filtered_data)))"
   ]
  },
  {
   "cell_type": "code",
   "execution_count": null,
   "id": "entitled-adventure",
   "metadata": {
    "scrolled": true
   },
   "outputs": [],
   "source": [
    "data_pd = pd.DataFrame(raw_filtered_data)\n",
    "data_pd.head();"
   ]
  },
  {
   "cell_type": "markdown",
   "id": "dominant-cleaner",
   "metadata": {},
   "source": [
    "load config files, only meta_fields is used"
   ]
  },
  {
   "cell_type": "code",
   "execution_count": null,
   "id": "69b8851a",
   "metadata": {},
   "outputs": [],
   "source": [
    "non_numeric_fields_path = './non_numeric_fields.yaml'\n",
    "\n",
    "with open(non_numeric_fields_path, 'r') as file_:\n",
    "    non_numeric_fields = yaml.load(file_.read(),  Loader=yaml.BaseLoader)\n",
    "    "
   ]
  },
  {
   "cell_type": "code",
   "execution_count": null,
   "id": "aboriginal-lobby",
   "metadata": {},
   "outputs": [],
   "source": [
    "meta_fields_path = './meta_fields.yaml'\n",
    "\n",
    "with open(meta_fields_path, 'r') as file_:\n",
    "    meta_fields = yaml.load(file_.read(),  Loader=yaml.BaseLoader)    "
   ]
  },
  {
   "cell_type": "markdown",
   "id": "saving-patent",
   "metadata": {},
   "source": [
    "### drop unused"
   ]
  },
  {
   "cell_type": "code",
   "execution_count": null,
   "id": "relevant-barrel",
   "metadata": {},
   "outputs": [],
   "source": [
    "dropped_pd = data_pd.drop(meta_fields, axis=1)\n",
    "dropped_pd.head()"
   ]
  },
  {
   "cell_type": "markdown",
   "id": "worst-homework",
   "metadata": {},
   "source": [
    "build pipelines for categorical and numeric data\n",
    "\n",
    "then use an imputer to add MISSING values\n",
    "\n",
    "then add the players SHARE on kills/deaths/dmg etc\n",
    "\n",
    "(then add the users dmg/kills/deaths etc PER MIN)"
   ]
  },
  {
   "cell_type": "code",
   "execution_count": null,
   "id": "spiritual-wilson",
   "metadata": {},
   "outputs": [],
   "source": [
    "from sklearn.compose import ColumnTransformer\n",
    "from sklearn.pipeline import Pipeline\n",
    "from sklearn.impute import SimpleImputer\n",
    "from sklearn.preprocessing import OneHotEncoder\n",
    "\n",
    "from custom_transformer import TeamShareAdder"
   ]
  },
  {
   "cell_type": "code",
   "execution_count": null,
   "id": "several-journey",
   "metadata": {},
   "outputs": [],
   "source": [
    "numeric_fields = [column_name for column_name in dropped_pd.columns if column_name not in non_numeric_fields]\n",
    "cat_fields = [column_name for column_name in dropped_pd.columns if column_name in non_numeric_fields]"
   ]
  },
  {
   "cell_type": "code",
   "execution_count": null,
   "id": "continuing-newspaper",
   "metadata": {},
   "outputs": [],
   "source": [
    "def aggregation_config_builder(stats):\n",
    "    return [(f'stats_{stat}', f'team_{stat}') for stat in stats]\n",
    "\n",
    "aggregation_config = aggregation_config_builder(['totalDamageDealtToChampions', 'kills', 'deaths', 'assists', 'totalDamageTaken', 'goldEarned'])"
   ]
  },
  {
   "cell_type": "code",
   "execution_count": null,
   "id": "handed-vertical",
   "metadata": {},
   "outputs": [],
   "source": [
    "num_pipeline = Pipeline([('imputer', SimpleImputer(strategy='median')), \n",
    "                         ('team_share_adder', TeamShareAdder(numeric_fields, aggregation_config, mongo_config)),\n",
    "                         ('standard scaler', StandardScaler())])\n",
    "# num_pipeline = Pipeline([('imputer', SimpleImputer(strategy='median'))])"
   ]
  },
  {
   "cell_type": "code",
   "execution_count": null,
   "id": "willing-copyright",
   "metadata": {},
   "outputs": [],
   "source": [
    "cat_pipeline = Pipeline([('one_hot', OneHotEncoder())])"
   ]
  },
  {
   "cell_type": "code",
   "execution_count": null,
   "id": "isolated-fence",
   "metadata": {},
   "outputs": [],
   "source": [
    "full_pipeline = ColumnTransformer([('num', num_pipeline, numeric_fields), ('cat', cat_pipeline, ['timeline_lane'])])"
   ]
  },
  {
   "cell_type": "code",
   "execution_count": null,
   "id": "falling-bullet",
   "metadata": {},
   "outputs": [],
   "source": [
    "data_post_pipeline = full_pipeline.fit_transform(dropped_pd);"
   ]
  },
  {
   "cell_type": "code",
   "execution_count": null,
   "id": "manual-durham",
   "metadata": {
    "scrolled": true
   },
   "outputs": [],
   "source": [
    "post_df = pd.DataFrame(data_post_pipeline)\n",
    "post_df.head()"
   ]
  },
  {
   "cell_type": "markdown",
   "id": "political-visitor",
   "metadata": {},
   "source": [
    "### save the result"
   ]
  },
  {
   "cell_type": "code",
   "execution_count": null,
   "id": "0c5c91cb",
   "metadata": {},
   "outputs": [],
   "source": [
    "lengths = []\n",
    "for i, game in tqdm.tqdm(list(enumerate(post_df.itertuples()))):\n",
    "    lengths.append(len(game))\n",
    "print(set(lengths))\n"
   ]
  },
  {
   "cell_type": "code",
   "execution_count": null,
   "id": "informational-hygiene",
   "metadata": {},
   "outputs": [],
   "source": [
    "for i, game in tqdm.tqdm(list(enumerate(post_df.itertuples()))):\n",
    "    db_writer.write_processed_game(game, targets[i], player_ids[i])"
   ]
  },
  {
   "cell_type": "code",
   "execution_count": null,
   "id": "constant-north",
   "metadata": {},
   "outputs": [],
   "source": []
  }
 ],
 "metadata": {
  "kernelspec": {
   "display_name": "Python 3.8.12 ('driftlon')",
   "language": "python",
   "name": "python3"
  },
  "language_info": {
   "codemirror_mode": {
    "name": "ipython",
    "version": 3
   },
   "file_extension": ".py",
   "mimetype": "text/x-python",
   "name": "python",
   "nbconvert_exporter": "python",
   "pygments_lexer": "ipython3",
   "version": "3.8.12"
  },
  "vscode": {
   "interpreter": {
    "hash": "cbddafcf73779e0f6359d88b4b9266694759143455be0947bd2cf15245dcc482"
   }
  }
 },
 "nbformat": 4,
 "nbformat_minor": 5
}
